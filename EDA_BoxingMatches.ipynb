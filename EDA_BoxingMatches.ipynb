{
 "cells": [
  {
   "cell_type": "markdown",
   "metadata": {},
   "source": [
    "![title](insaid.png)"
   ]
  },
  {
   "cell_type": "markdown",
   "metadata": {},
   "source": [
    "## Table of Contents\n",
    "\n",
    "1. [Problem Statement](#section1)<br>\n",
    "2. [Data Loading and Description](#section2)\n",
    "3. [Data Profiling](#section3)\n",
    "    - 3.1 [Understanding the Dataset](#section301)<br/>\n",
    "    - 3.2 [Pre Profiling](#section302)<br/>\n",
    "    - 3.3 [Preprocessing](#section303)<br/>\n",
    "    - 3.4 [Post Profiling](#section304)<br/>\n",
    "4. [Questions](#section4)\n",
    "    - 4.1 [How Height difference affects the outcome of the match?](#section401)<br/>\n",
    "    - 4.2 [How Reach difference affects the outcome of the match?](#section402)<br/>\n",
    "    - 4.3 [How Age difference affects the outcome of the match?](#section403)<br/>\n",
    "    - 4.4 [Does height helps the boxers to wing more dominantly?](#section404)<br/>\n",
    "    - 4.5 [Does Age helps the boxers to wing more dominantly?](#section405)<br/>\n",
    "    - 4.6 [Does reach helps the boxers to win more dominantly?](#section406)<br/>\n",
    "    - 4.7 [How advantage in single physical attribute fare with the outcome of the boxers?](#section407)<br/>\n",
    "5. [Conclusions](#section5)<br/>  "
   ]
  },
  {
   "cell_type": "markdown",
   "metadata": {},
   "source": [
    "<a name=\"section1\"></a>\n",
    "### 1. Problem Statement"
   ]
  },
  {
   "cell_type": "markdown",
   "metadata": {},
   "source": [
    "__Boxing__ is a combat sport in which two people, usually wearing protective gloves, throw punches at each other for a predetermined amount of time in a boxing ring.\n",
    "\n",
    "I have always been fascinated, whenever i watch the match to predict who will gonna win the bout. Clearly most of these boxing matches are carried out within the same weight limit to ensure the bout is an equal fight. But still there are various physical attributes in which one fighter has an advantage over the other.\n",
    "\n",
    "__Over this analysis sheet, we will try to figure out how physical attributes (Age, Height, Reach, Stance) play a crucial in deciding the outcome of the bout.__\n"
   ]
  },
  {
   "cell_type": "markdown",
   "metadata": {},
   "source": [
    "![title](boxing_img.jpg)"
   ]
  },
  {
   "cell_type": "markdown",
   "metadata": {},
   "source": [
    "<a name=\"section2\"></a>\n",
    "\n",
    "### 2. Data Loading and Description"
   ]
  },
  {
   "cell_type": "markdown",
   "metadata": {},
   "source": [
    "- The dataset consists of the information about boxing matches. There are various variables present in the dataset includes height, age, range, weight, result etc.. \n",
    "- The dataset comprises of __387427 observations of 26 columns__. Below is a table showing names of all the columns and their description."
   ]
  },
  {
   "cell_type": "markdown",
   "metadata": {},
   "source": [
    "| Column Name   | Description                                               |\n",
    "| ------------- |:-------------                                            :| \n",
    "| age_A         | Age of Boxer A                                            | \n",
    "| age_b         | Age of Boxer B                                            |  \n",
    "| height_A      | Height of Boxer A                                         | \n",
    "| height_B      | Height of Boxer B                                         |   \n",
    "| reach_A       | Reach of boxer A                                          |\n",
    "| reach_B       | Reach of boxer B                                          |\n",
    "| stance_A      | Stance of Boxer A                                         |\n",
    "| stance_B      | Stance of Boxer B                                         |\n",
    "| weight_A      | Weight of Boxer A                                         |\n",
    "| weight_B      | Weight of Boxer B                                         |\n",
    "| won_A      \t| Number of wins - Boxer A                                  |\n",
    "| won_B         | Number of wins - Boxer B                                  |\n",
    "| lost_A        | Number of losses - Boxer A                                |\n",
    "| lost_B        | Number of losses - Boxer B                                |\n",
    "| drawn_A       | Number of draws- Boxer A                                  |\n",
    "| drawn_B       | Number of draws- Boxer B                                  |\n",
    "| kos_A         | Number of KOs wins - Boxer A                              |\n",
    "| kos_B         | Number of KOs wins - Boxer B                              |\n",
    "| result        | Match Winner - A or B                                     |\n",
    "| decision      | Outcome of Match                                          |\n",
    "| judge1_A      | Judge 1 Score for boxer A                                 |\n",
    "| judge1_B      | Judge 1 Score for boxer B                                 |\n",
    "| judge2_A      | Judge 2 Score for boxer A                                 |\n",
    "| judge2_B      | Judge 2 Score for boxer B                                 |\n",
    "| judge3_A      | Judge 3 Score for boxer A                                 |\n",
    "| judge3_B      | Judge 3 Score for boxer B                                 |\n"
   ]
  },
  {
   "cell_type": "markdown",
   "metadata": {
    "_cell_guid": "998b2a03-c60e-4fd6-9f69-784de6e6c9b8",
    "_uuid": "d3086cb02907affe5a674b54e4baaedd632482c7"
   },
   "source": [
    "#### Importing packages                                          "
   ]
  },
  {
   "cell_type": "code",
   "execution_count": 1,
   "metadata": {},
   "outputs": [],
   "source": [
    "import numpy as np \n",
    "import pandas as pd \n",
    "import pandas_profiling\n",
    "import matplotlib.pyplot as plt\n",
    "import seaborn as sns          \n",
    "%matplotlib inline\n",
    "sns.set()\n",
    "\n",
    "from subprocess import check_output"
   ]
  },
  {
   "cell_type": "markdown",
   "metadata": {},
   "source": [
    "#### Importing the Dataset"
   ]
  },
  {
   "cell_type": "code",
   "execution_count": 2,
   "metadata": {
    "_cell_guid": "080fb327-390d-4124-b287-a561d050fe7e",
    "_uuid": "0333d5086a63e3870708e7ba7a540d036c53544e"
   },
   "outputs": [],
   "source": [
    "boxing_data = pd.read_csv(\"https://raw.githubusercontent.com/insaid2018/Term-1/master/Data/Projects/boxing_matches.csv\")"
   ]
  },
  {
   "cell_type": "markdown",
   "metadata": {},
   "source": [
    "<a name=\"section3\"></a>\n",
    "\n",
    "## 3. Data Profiling"
   ]
  },
  {
   "cell_type": "markdown",
   "metadata": {},
   "source": [
    "<a name=\"section301\"></a>\n",
    "\n",
    "### 3.1 Understanding the Dataset\n"
   ]
  },
  {
   "cell_type": "code",
   "execution_count": 3,
   "metadata": {},
   "outputs": [
    {
     "data": {
      "text/plain": [
       "(387427, 26)"
      ]
     },
     "execution_count": 3,
     "metadata": {},
     "output_type": "execute_result"
    }
   ],
   "source": [
    "boxing_data.shape"
   ]
  },
  {
   "cell_type": "markdown",
   "metadata": {},
   "source": [
    "So As we see, there are total 387427 records and 26 columns in our Boxing Matches Dataset. Lets see what all parameters we have do analysis"
   ]
  },
  {
   "cell_type": "code",
   "execution_count": 4,
   "metadata": {},
   "outputs": [
    {
     "data": {
      "text/plain": [
       "Index(['age_A', 'age_B', 'height_A', 'height_B', 'reach_A', 'reach_B',\n",
       "       'stance_A', 'stance_B', 'weight_A', 'weight_B', 'won_A', 'won_B',\n",
       "       'lost_A', 'lost_B', 'drawn_A', 'drawn_B', 'kos_A', 'kos_B', 'result',\n",
       "       'decision', 'judge1_A', 'judge1_B', 'judge2_A', 'judge2_B', 'judge3_A',\n",
       "       'judge3_B'],\n",
       "      dtype='object')"
      ]
     },
     "execution_count": 4,
     "metadata": {},
     "output_type": "execute_result"
    }
   ],
   "source": [
    "boxing_data.columns"
   ]
  },
  {
   "cell_type": "code",
   "execution_count": 5,
   "metadata": {},
   "outputs": [
    {
     "data": {
      "text/html": [
       "<div>\n",
       "<style scoped>\n",
       "    .dataframe tbody tr th:only-of-type {\n",
       "        vertical-align: middle;\n",
       "    }\n",
       "\n",
       "    .dataframe tbody tr th {\n",
       "        vertical-align: top;\n",
       "    }\n",
       "\n",
       "    .dataframe thead th {\n",
       "        text-align: right;\n",
       "    }\n",
       "</style>\n",
       "<table border=\"1\" class=\"dataframe\">\n",
       "  <thead>\n",
       "    <tr style=\"text-align: right;\">\n",
       "      <th></th>\n",
       "      <th>age_A</th>\n",
       "      <th>age_B</th>\n",
       "      <th>height_A</th>\n",
       "      <th>height_B</th>\n",
       "      <th>reach_A</th>\n",
       "      <th>reach_B</th>\n",
       "      <th>stance_A</th>\n",
       "      <th>stance_B</th>\n",
       "      <th>weight_A</th>\n",
       "      <th>weight_B</th>\n",
       "      <th>...</th>\n",
       "      <th>kos_A</th>\n",
       "      <th>kos_B</th>\n",
       "      <th>result</th>\n",
       "      <th>decision</th>\n",
       "      <th>judge1_A</th>\n",
       "      <th>judge1_B</th>\n",
       "      <th>judge2_A</th>\n",
       "      <th>judge2_B</th>\n",
       "      <th>judge3_A</th>\n",
       "      <th>judge3_B</th>\n",
       "    </tr>\n",
       "  </thead>\n",
       "  <tbody>\n",
       "    <tr>\n",
       "      <th>0</th>\n",
       "      <td>35.0</td>\n",
       "      <td>27.0</td>\n",
       "      <td>179.0</td>\n",
       "      <td>175.0</td>\n",
       "      <td>178.0</td>\n",
       "      <td>179.0</td>\n",
       "      <td>orthodox</td>\n",
       "      <td>orthodox</td>\n",
       "      <td>160.0</td>\n",
       "      <td>160.0</td>\n",
       "      <td>...</td>\n",
       "      <td>33</td>\n",
       "      <td>34.0</td>\n",
       "      <td>draw</td>\n",
       "      <td>SD</td>\n",
       "      <td>110.0</td>\n",
       "      <td>118.0</td>\n",
       "      <td>115.0</td>\n",
       "      <td>113.0</td>\n",
       "      <td>114.0</td>\n",
       "      <td>114.0</td>\n",
       "    </tr>\n",
       "    <tr>\n",
       "      <th>1</th>\n",
       "      <td>26.0</td>\n",
       "      <td>31.0</td>\n",
       "      <td>175.0</td>\n",
       "      <td>185.0</td>\n",
       "      <td>179.0</td>\n",
       "      <td>185.0</td>\n",
       "      <td>orthodox</td>\n",
       "      <td>orthodox</td>\n",
       "      <td>164.0</td>\n",
       "      <td>164.0</td>\n",
       "      <td>...</td>\n",
       "      <td>34</td>\n",
       "      <td>32.0</td>\n",
       "      <td>win_A</td>\n",
       "      <td>UD</td>\n",
       "      <td>120.0</td>\n",
       "      <td>108.0</td>\n",
       "      <td>120.0</td>\n",
       "      <td>108.0</td>\n",
       "      <td>120.0</td>\n",
       "      <td>108.0</td>\n",
       "    </tr>\n",
       "    <tr>\n",
       "      <th>2</th>\n",
       "      <td>28.0</td>\n",
       "      <td>26.0</td>\n",
       "      <td>176.0</td>\n",
       "      <td>175.0</td>\n",
       "      <td>NaN</td>\n",
       "      <td>179.0</td>\n",
       "      <td>orthodox</td>\n",
       "      <td>orthodox</td>\n",
       "      <td>154.0</td>\n",
       "      <td>154.0</td>\n",
       "      <td>...</td>\n",
       "      <td>13</td>\n",
       "      <td>33.0</td>\n",
       "      <td>win_B</td>\n",
       "      <td>KO</td>\n",
       "      <td>NaN</td>\n",
       "      <td>NaN</td>\n",
       "      <td>NaN</td>\n",
       "      <td>NaN</td>\n",
       "      <td>NaN</td>\n",
       "      <td>NaN</td>\n",
       "    </tr>\n",
       "    <tr>\n",
       "      <th>3</th>\n",
       "      <td>25.0</td>\n",
       "      <td>29.0</td>\n",
       "      <td>175.0</td>\n",
       "      <td>174.0</td>\n",
       "      <td>179.0</td>\n",
       "      <td>180.0</td>\n",
       "      <td>orthodox</td>\n",
       "      <td>orthodox</td>\n",
       "      <td>155.0</td>\n",
       "      <td>155.0</td>\n",
       "      <td>...</td>\n",
       "      <td>32</td>\n",
       "      <td>19.0</td>\n",
       "      <td>win_A</td>\n",
       "      <td>KO</td>\n",
       "      <td>47.0</td>\n",
       "      <td>48.0</td>\n",
       "      <td>49.0</td>\n",
       "      <td>46.0</td>\n",
       "      <td>48.0</td>\n",
       "      <td>47.0</td>\n",
       "    </tr>\n",
       "    <tr>\n",
       "      <th>4</th>\n",
       "      <td>25.0</td>\n",
       "      <td>35.0</td>\n",
       "      <td>175.0</td>\n",
       "      <td>170.0</td>\n",
       "      <td>179.0</td>\n",
       "      <td>170.0</td>\n",
       "      <td>orthodox</td>\n",
       "      <td>orthodox</td>\n",
       "      <td>155.0</td>\n",
       "      <td>NaN</td>\n",
       "      <td>...</td>\n",
       "      <td>32</td>\n",
       "      <td>33.0</td>\n",
       "      <td>win_A</td>\n",
       "      <td>UD</td>\n",
       "      <td>118.0</td>\n",
       "      <td>110.0</td>\n",
       "      <td>119.0</td>\n",
       "      <td>109.0</td>\n",
       "      <td>117.0</td>\n",
       "      <td>111.0</td>\n",
       "    </tr>\n",
       "  </tbody>\n",
       "</table>\n",
       "<p>5 rows × 26 columns</p>\n",
       "</div>"
      ],
      "text/plain": [
       "   age_A  age_B  height_A  height_B  reach_A  reach_B  stance_A  stance_B  \\\n",
       "0   35.0   27.0     179.0     175.0    178.0    179.0  orthodox  orthodox   \n",
       "1   26.0   31.0     175.0     185.0    179.0    185.0  orthodox  orthodox   \n",
       "2   28.0   26.0     176.0     175.0      NaN    179.0  orthodox  orthodox   \n",
       "3   25.0   29.0     175.0     174.0    179.0    180.0  orthodox  orthodox   \n",
       "4   25.0   35.0     175.0     170.0    179.0    170.0  orthodox  orthodox   \n",
       "\n",
       "   weight_A  weight_B  ...  kos_A  kos_B  result  decision  judge1_A  \\\n",
       "0     160.0     160.0  ...     33   34.0    draw        SD     110.0   \n",
       "1     164.0     164.0  ...     34   32.0   win_A        UD     120.0   \n",
       "2     154.0     154.0  ...     13   33.0   win_B        KO       NaN   \n",
       "3     155.0     155.0  ...     32   19.0   win_A        KO      47.0   \n",
       "4     155.0       NaN  ...     32   33.0   win_A        UD     118.0   \n",
       "\n",
       "   judge1_B  judge2_A  judge2_B judge3_A judge3_B  \n",
       "0     118.0     115.0     113.0    114.0    114.0  \n",
       "1     108.0     120.0     108.0    120.0    108.0  \n",
       "2       NaN       NaN       NaN      NaN      NaN  \n",
       "3      48.0      49.0      46.0     48.0     47.0  \n",
       "4     110.0     119.0     109.0    117.0    111.0  \n",
       "\n",
       "[5 rows x 26 columns]"
      ]
     },
     "execution_count": 5,
     "metadata": {},
     "output_type": "execute_result"
    }
   ],
   "source": [
    "boxing_data.head()"
   ]
  },
  {
   "cell_type": "code",
   "execution_count": 6,
   "metadata": {
    "scrolled": true
   },
   "outputs": [
    {
     "data": {
      "text/html": [
       "<div>\n",
       "<style scoped>\n",
       "    .dataframe tbody tr th:only-of-type {\n",
       "        vertical-align: middle;\n",
       "    }\n",
       "\n",
       "    .dataframe tbody tr th {\n",
       "        vertical-align: top;\n",
       "    }\n",
       "\n",
       "    .dataframe thead th {\n",
       "        text-align: right;\n",
       "    }\n",
       "</style>\n",
       "<table border=\"1\" class=\"dataframe\">\n",
       "  <thead>\n",
       "    <tr style=\"text-align: right;\">\n",
       "      <th></th>\n",
       "      <th>age_A</th>\n",
       "      <th>age_B</th>\n",
       "      <th>height_A</th>\n",
       "      <th>height_B</th>\n",
       "      <th>reach_A</th>\n",
       "      <th>reach_B</th>\n",
       "      <th>weight_A</th>\n",
       "      <th>weight_B</th>\n",
       "      <th>won_A</th>\n",
       "      <th>won_B</th>\n",
       "      <th>...</th>\n",
       "      <th>drawn_A</th>\n",
       "      <th>drawn_B</th>\n",
       "      <th>kos_A</th>\n",
       "      <th>kos_B</th>\n",
       "      <th>judge1_A</th>\n",
       "      <th>judge1_B</th>\n",
       "      <th>judge2_A</th>\n",
       "      <th>judge2_B</th>\n",
       "      <th>judge3_A</th>\n",
       "      <th>judge3_B</th>\n",
       "    </tr>\n",
       "  </thead>\n",
       "  <tbody>\n",
       "    <tr>\n",
       "      <th>count</th>\n",
       "      <td>352888.000000</td>\n",
       "      <td>257935.000000</td>\n",
       "      <td>249246.000000</td>\n",
       "      <td>134640.000000</td>\n",
       "      <td>112342.000000</td>\n",
       "      <td>37873.000000</td>\n",
       "      <td>135573.000000</td>\n",
       "      <td>130358.000000</td>\n",
       "      <td>387427.000000</td>\n",
       "      <td>387427.000000</td>\n",
       "      <td>...</td>\n",
       "      <td>387427.000000</td>\n",
       "      <td>387427.000000</td>\n",
       "      <td>387427.000000</td>\n",
       "      <td>387348.000000</td>\n",
       "      <td>52248.000000</td>\n",
       "      <td>52060.000000</td>\n",
       "      <td>70371.000000</td>\n",
       "      <td>70032.000000</td>\n",
       "      <td>61231.000000</td>\n",
       "      <td>61023.000000</td>\n",
       "    </tr>\n",
       "    <tr>\n",
       "      <th>mean</th>\n",
       "      <td>24.416041</td>\n",
       "      <td>26.583345</td>\n",
       "      <td>172.786657</td>\n",
       "      <td>172.882657</td>\n",
       "      <td>178.848605</td>\n",
       "      <td>179.001030</td>\n",
       "      <td>146.340636</td>\n",
       "      <td>147.089484</td>\n",
       "      <td>23.108438</td>\n",
       "      <td>15.159080</td>\n",
       "      <td>...</td>\n",
       "      <td>2.826481</td>\n",
       "      <td>2.636375</td>\n",
       "      <td>10.338887</td>\n",
       "      <td>6.234735</td>\n",
       "      <td>62.778901</td>\n",
       "      <td>59.509700</td>\n",
       "      <td>59.560941</td>\n",
       "      <td>56.570411</td>\n",
       "      <td>60.784276</td>\n",
       "      <td>57.995215</td>\n",
       "    </tr>\n",
       "    <tr>\n",
       "      <th>std</th>\n",
       "      <td>6.523590</td>\n",
       "      <td>11.823224</td>\n",
       "      <td>9.130127</td>\n",
       "      <td>9.430631</td>\n",
       "      <td>12.002404</td>\n",
       "      <td>14.867537</td>\n",
       "      <td>30.240142</td>\n",
       "      <td>30.624890</td>\n",
       "      <td>27.629901</td>\n",
       "      <td>19.938137</td>\n",
       "      <td>...</td>\n",
       "      <td>5.584610</td>\n",
       "      <td>5.027003</td>\n",
       "      <td>12.392049</td>\n",
       "      <td>8.750690</td>\n",
       "      <td>30.337580</td>\n",
       "      <td>29.285058</td>\n",
       "      <td>31.021367</td>\n",
       "      <td>30.260935</td>\n",
       "      <td>31.910461</td>\n",
       "      <td>31.170590</td>\n",
       "    </tr>\n",
       "    <tr>\n",
       "      <th>min</th>\n",
       "      <td>-74.000000</td>\n",
       "      <td>-74.000000</td>\n",
       "      <td>2.000000</td>\n",
       "      <td>15.000000</td>\n",
       "      <td>5.000000</td>\n",
       "      <td>1.000000</td>\n",
       "      <td>10.000000</td>\n",
       "      <td>2.000000</td>\n",
       "      <td>0.000000</td>\n",
       "      <td>0.000000</td>\n",
       "      <td>...</td>\n",
       "      <td>0.000000</td>\n",
       "      <td>0.000000</td>\n",
       "      <td>0.000000</td>\n",
       "      <td>0.000000</td>\n",
       "      <td>0.000000</td>\n",
       "      <td>1.000000</td>\n",
       "      <td>0.000000</td>\n",
       "      <td>0.000000</td>\n",
       "      <td>0.000000</td>\n",
       "      <td>1.000000</td>\n",
       "    </tr>\n",
       "    <tr>\n",
       "      <th>25%</th>\n",
       "      <td>21.000000</td>\n",
       "      <td>23.000000</td>\n",
       "      <td>166.000000</td>\n",
       "      <td>167.000000</td>\n",
       "      <td>170.000000</td>\n",
       "      <td>171.000000</td>\n",
       "      <td>125.000000</td>\n",
       "      <td>126.000000</td>\n",
       "      <td>5.000000</td>\n",
       "      <td>2.000000</td>\n",
       "      <td>...</td>\n",
       "      <td>0.000000</td>\n",
       "      <td>0.000000</td>\n",
       "      <td>2.000000</td>\n",
       "      <td>0.000000</td>\n",
       "      <td>39.000000</td>\n",
       "      <td>37.000000</td>\n",
       "      <td>39.000000</td>\n",
       "      <td>36.000000</td>\n",
       "      <td>39.000000</td>\n",
       "      <td>36.000000</td>\n",
       "    </tr>\n",
       "    <tr>\n",
       "      <th>50%</th>\n",
       "      <td>24.000000</td>\n",
       "      <td>26.000000</td>\n",
       "      <td>173.000000</td>\n",
       "      <td>173.000000</td>\n",
       "      <td>178.000000</td>\n",
       "      <td>178.000000</td>\n",
       "      <td>140.000000</td>\n",
       "      <td>140.000000</td>\n",
       "      <td>14.000000</td>\n",
       "      <td>8.000000</td>\n",
       "      <td>...</td>\n",
       "      <td>1.000000</td>\n",
       "      <td>1.000000</td>\n",
       "      <td>6.000000</td>\n",
       "      <td>3.000000</td>\n",
       "      <td>59.000000</td>\n",
       "      <td>54.000000</td>\n",
       "      <td>58.000000</td>\n",
       "      <td>54.000000</td>\n",
       "      <td>58.000000</td>\n",
       "      <td>54.000000</td>\n",
       "    </tr>\n",
       "    <tr>\n",
       "      <th>75%</th>\n",
       "      <td>27.000000</td>\n",
       "      <td>30.000000</td>\n",
       "      <td>178.000000</td>\n",
       "      <td>179.000000</td>\n",
       "      <td>185.000000</td>\n",
       "      <td>185.000000</td>\n",
       "      <td>160.000000</td>\n",
       "      <td>160.000000</td>\n",
       "      <td>31.000000</td>\n",
       "      <td>21.000000</td>\n",
       "      <td>...</td>\n",
       "      <td>3.000000</td>\n",
       "      <td>3.000000</td>\n",
       "      <td>14.000000</td>\n",
       "      <td>9.000000</td>\n",
       "      <td>80.000000</td>\n",
       "      <td>79.000000</td>\n",
       "      <td>80.000000</td>\n",
       "      <td>75.000000</td>\n",
       "      <td>80.000000</td>\n",
       "      <td>78.000000</td>\n",
       "    </tr>\n",
       "    <tr>\n",
       "      <th>max</th>\n",
       "      <td>1818.000000</td>\n",
       "      <td>2016.000000</td>\n",
       "      <td>255.000000</td>\n",
       "      <td>255.000000</td>\n",
       "      <td>456.000000</td>\n",
       "      <td>456.000000</td>\n",
       "      <td>363.000000</td>\n",
       "      <td>450.000000</td>\n",
       "      <td>332.000000</td>\n",
       "      <td>251.000000</td>\n",
       "      <td>...</td>\n",
       "      <td>77.000000</td>\n",
       "      <td>76.000000</td>\n",
       "      <td>131.000000</td>\n",
       "      <td>128.000000</td>\n",
       "      <td>540.000000</td>\n",
       "      <td>291.000000</td>\n",
       "      <td>299.000000</td>\n",
       "      <td>294.000000</td>\n",
       "      <td>300.000000</td>\n",
       "      <td>295.000000</td>\n",
       "    </tr>\n",
       "  </tbody>\n",
       "</table>\n",
       "<p>8 rows × 22 columns</p>\n",
       "</div>"
      ],
      "text/plain": [
       "               age_A          age_B       height_A       height_B  \\\n",
       "count  352888.000000  257935.000000  249246.000000  134640.000000   \n",
       "mean       24.416041      26.583345     172.786657     172.882657   \n",
       "std         6.523590      11.823224       9.130127       9.430631   \n",
       "min       -74.000000     -74.000000       2.000000      15.000000   \n",
       "25%        21.000000      23.000000     166.000000     167.000000   \n",
       "50%        24.000000      26.000000     173.000000     173.000000   \n",
       "75%        27.000000      30.000000     178.000000     179.000000   \n",
       "max      1818.000000    2016.000000     255.000000     255.000000   \n",
       "\n",
       "             reach_A       reach_B       weight_A       weight_B  \\\n",
       "count  112342.000000  37873.000000  135573.000000  130358.000000   \n",
       "mean      178.848605    179.001030     146.340636     147.089484   \n",
       "std        12.002404     14.867537      30.240142      30.624890   \n",
       "min         5.000000      1.000000      10.000000       2.000000   \n",
       "25%       170.000000    171.000000     125.000000     126.000000   \n",
       "50%       178.000000    178.000000     140.000000     140.000000   \n",
       "75%       185.000000    185.000000     160.000000     160.000000   \n",
       "max       456.000000    456.000000     363.000000     450.000000   \n",
       "\n",
       "               won_A          won_B  ...        drawn_A        drawn_B  \\\n",
       "count  387427.000000  387427.000000  ...  387427.000000  387427.000000   \n",
       "mean       23.108438      15.159080  ...       2.826481       2.636375   \n",
       "std        27.629901      19.938137  ...       5.584610       5.027003   \n",
       "min         0.000000       0.000000  ...       0.000000       0.000000   \n",
       "25%         5.000000       2.000000  ...       0.000000       0.000000   \n",
       "50%        14.000000       8.000000  ...       1.000000       1.000000   \n",
       "75%        31.000000      21.000000  ...       3.000000       3.000000   \n",
       "max       332.000000     251.000000  ...      77.000000      76.000000   \n",
       "\n",
       "               kos_A          kos_B      judge1_A      judge1_B      judge2_A  \\\n",
       "count  387427.000000  387348.000000  52248.000000  52060.000000  70371.000000   \n",
       "mean       10.338887       6.234735     62.778901     59.509700     59.560941   \n",
       "std        12.392049       8.750690     30.337580     29.285058     31.021367   \n",
       "min         0.000000       0.000000      0.000000      1.000000      0.000000   \n",
       "25%         2.000000       0.000000     39.000000     37.000000     39.000000   \n",
       "50%         6.000000       3.000000     59.000000     54.000000     58.000000   \n",
       "75%        14.000000       9.000000     80.000000     79.000000     80.000000   \n",
       "max       131.000000     128.000000    540.000000    291.000000    299.000000   \n",
       "\n",
       "           judge2_B      judge3_A      judge3_B  \n",
       "count  70032.000000  61231.000000  61023.000000  \n",
       "mean      56.570411     60.784276     57.995215  \n",
       "std       30.260935     31.910461     31.170590  \n",
       "min        0.000000      0.000000      1.000000  \n",
       "25%       36.000000     39.000000     36.000000  \n",
       "50%       54.000000     58.000000     54.000000  \n",
       "75%       75.000000     80.000000     78.000000  \n",
       "max      294.000000    300.000000    295.000000  \n",
       "\n",
       "[8 rows x 22 columns]"
      ]
     },
     "execution_count": 6,
     "metadata": {},
     "output_type": "execute_result"
    }
   ],
   "source": [
    "boxing_data.describe()"
   ]
  },
  {
   "cell_type": "markdown",
   "metadata": {},
   "source": [
    "From the description above, we can see that there are few outliers/issues with the data. Foloowing inference can be drawn:\n",
    "1. Minimum age_A is -74 which is not possible\n",
    "2. Maximum Height is 1818 and 2016 which is not possible.\n",
    "3. Minimum Reach as 2 and 15 cm, which is not possible.\n",
    "4. Minimum Weight 10 and 2, not possible.\n",
    "5. Cleary many missing records in physical attributes columns, as total number of records are 387427\n"
   ]
  },
  {
   "cell_type": "code",
   "execution_count": 7,
   "metadata": {},
   "outputs": [
    {
     "name": "stdout",
     "output_type": "stream",
     "text": [
      "<class 'pandas.core.frame.DataFrame'>\n",
      "RangeIndex: 387427 entries, 0 to 387426\n",
      "Data columns (total 26 columns):\n",
      "age_A       352888 non-null float64\n",
      "age_B       257935 non-null float64\n",
      "height_A    249246 non-null float64\n",
      "height_B    134640 non-null float64\n",
      "reach_A     112342 non-null float64\n",
      "reach_B     37873 non-null float64\n",
      "stance_A    231009 non-null object\n",
      "stance_B    231009 non-null object\n",
      "weight_A    135573 non-null float64\n",
      "weight_B    130358 non-null float64\n",
      "won_A       387427 non-null int64\n",
      "won_B       387427 non-null int64\n",
      "lost_A      387427 non-null int64\n",
      "lost_B      387427 non-null int64\n",
      "drawn_A     387427 non-null int64\n",
      "drawn_B     387427 non-null int64\n",
      "kos_A       387427 non-null int64\n",
      "kos_B       387348 non-null float64\n",
      "result      387427 non-null object\n",
      "decision    387427 non-null object\n",
      "judge1_A    52248 non-null float64\n",
      "judge1_B    52060 non-null float64\n",
      "judge2_A    70371 non-null float64\n",
      "judge2_B    70032 non-null float64\n",
      "judge3_A    61231 non-null float64\n",
      "judge3_B    61023 non-null float64\n",
      "dtypes: float64(15), int64(7), object(4)\n",
      "memory usage: 76.9+ MB\n"
     ]
    }
   ],
   "source": [
    "boxing_data.info()"
   ]
  },
  {
   "cell_type": "markdown",
   "metadata": {},
   "source": [
    "The data description above, shows we dont have null values for result outcome. Which is a good sign for us since based on that we wil decide what impact does other parameters play on it."
   ]
  },
  {
   "cell_type": "markdown",
   "metadata": {},
   "source": [
    "__Since we are only taking into account the impact of physical attributes, so we will neglect other columns like judge1_A,\n",
    "judge1_b, judge2_A, judge2_b, judge3_A, judge3_b as out come of the match enough for us to do analysis and not how judge score them.__\n",
    "\n",
    "__Also we will neglect previous track record of the fighter as we are clearly taking into account the impact of physical attributes, So we will also neglect columns like won_A, won_B, kos_A, kos_B, lost_A, lost_B, drawn_A and drawn_B__\n"
   ]
  },
  {
   "cell_type": "code",
   "execution_count": 8,
   "metadata": {},
   "outputs": [],
   "source": [
    "boxing_data.drop(['judge1_A','judge1_B','judge2_A','judge2_B','judge3_A','judge3_B','kos_A','kos_B','won_A','won_B','lost_A','lost_B','drawn_A','drawn_B'], axis=1,inplace=True)"
   ]
  },
  {
   "cell_type": "code",
   "execution_count": 9,
   "metadata": {
    "scrolled": true
   },
   "outputs": [
    {
     "data": {
      "text/plain": [
       "(387427, 12)"
      ]
     },
     "execution_count": 9,
     "metadata": {},
     "output_type": "execute_result"
    }
   ],
   "source": [
    "boxing_data.shape"
   ]
  },
  {
   "cell_type": "code",
   "execution_count": 10,
   "metadata": {
    "scrolled": true
   },
   "outputs": [
    {
     "data": {
      "text/plain": [
       "Index(['age_A', 'age_B', 'height_A', 'height_B', 'reach_A', 'reach_B',\n",
       "       'stance_A', 'stance_B', 'weight_A', 'weight_B', 'result', 'decision'],\n",
       "      dtype='object')"
      ]
     },
     "execution_count": 10,
     "metadata": {},
     "output_type": "execute_result"
    }
   ],
   "source": [
    "boxing_data.columns"
   ]
  },
  {
   "cell_type": "markdown",
   "metadata": {},
   "source": [
    "__We are also eliminating weight for the boxers as they are generally in the same weigh class and there is not much difference in weight__"
   ]
  },
  {
   "cell_type": "code",
   "execution_count": 11,
   "metadata": {},
   "outputs": [],
   "source": [
    "boxing_data.drop(['weight_A','weight_B'], axis=1,inplace=True)"
   ]
  },
  {
   "cell_type": "code",
   "execution_count": 12,
   "metadata": {},
   "outputs": [
    {
     "data": {
      "text/plain": [
       "Index(['age_A', 'age_B', 'height_A', 'height_B', 'reach_A', 'reach_B',\n",
       "       'stance_A', 'stance_B', 'result', 'decision'],\n",
       "      dtype='object')"
      ]
     },
     "execution_count": 12,
     "metadata": {},
     "output_type": "execute_result"
    }
   ],
   "source": [
    "boxing_data.columns"
   ]
  },
  {
   "cell_type": "code",
   "execution_count": 13,
   "metadata": {
    "scrolled": true
   },
   "outputs": [
    {
     "data": {
      "text/plain": [
       "(387427, 10)"
      ]
     },
     "execution_count": 13,
     "metadata": {},
     "output_type": "execute_result"
    }
   ],
   "source": [
    "boxing_data.shape"
   ]
  },
  {
   "cell_type": "markdown",
   "metadata": {},
   "source": [
    "__We will delete all those columns which have values missing for both Fighter A and B. Since we will have no criteria to measure the impact of that pysical attribute on the outcome of the match. We will do it for age, height, stance and reach.__"
   ]
  },
  {
   "cell_type": "code",
   "execution_count": 14,
   "metadata": {},
   "outputs": [],
   "source": [
    "boxing_data.dropna(subset=['age_A','age_B'], how='all', inplace=True)\n"
   ]
  },
  {
   "cell_type": "code",
   "execution_count": 15,
   "metadata": {},
   "outputs": [
    {
     "data": {
      "text/plain": [
       "(369128, 10)"
      ]
     },
     "execution_count": 15,
     "metadata": {},
     "output_type": "execute_result"
    }
   ],
   "source": [
    "boxing_data.shape"
   ]
  },
  {
   "cell_type": "code",
   "execution_count": 16,
   "metadata": {},
   "outputs": [],
   "source": [
    "boxing_data.dropna(subset=['height_A','height_B'], how='all', inplace=True)"
   ]
  },
  {
   "cell_type": "code",
   "execution_count": 17,
   "metadata": {},
   "outputs": [],
   "source": [
    "boxing_data.dropna(subset=['reach_A','reach_B'], how='all', inplace=True)"
   ]
  },
  {
   "cell_type": "code",
   "execution_count": 18,
   "metadata": {},
   "outputs": [],
   "source": [
    "boxing_data.dropna(subset=['stance_A','stance_B'], how='all', inplace=True)"
   ]
  },
  {
   "cell_type": "code",
   "execution_count": 19,
   "metadata": {},
   "outputs": [
    {
     "data": {
      "text/plain": [
       "(104088, 10)"
      ]
     },
     "execution_count": 19,
     "metadata": {},
     "output_type": "execute_result"
    }
   ],
   "source": [
    "boxing_data.shape"
   ]
  },
  {
   "cell_type": "code",
   "execution_count": 20,
   "metadata": {
    "scrolled": true
   },
   "outputs": [
    {
     "name": "stdout",
     "output_type": "stream",
     "text": [
      "<class 'pandas.core.frame.DataFrame'>\n",
      "Int64Index: 104088 entries, 0 to 387167\n",
      "Data columns (total 10 columns):\n",
      "age_A       103628 non-null float64\n",
      "age_B       79322 non-null float64\n",
      "height_A    101588 non-null float64\n",
      "height_B    53388 non-null float64\n",
      "reach_A     95490 non-null float64\n",
      "reach_B     28198 non-null float64\n",
      "stance_A    104088 non-null object\n",
      "stance_B    104088 non-null object\n",
      "result      104088 non-null object\n",
      "decision    104088 non-null object\n",
      "dtypes: float64(6), object(4)\n",
      "memory usage: 8.7+ MB\n"
     ]
    }
   ],
   "source": [
    "boxing_data.info()"
   ]
  },
  {
   "cell_type": "markdown",
   "metadata": {},
   "source": [
    "Lets just see , that how many rows have atleast 1 value as null. Lets check that if we eliminate that, then still would we have enough rows/records to do our analysis?\n",
    "\n",
    "Initiall we started with __387427__ records. So the minimum records that we should have in our sample should be not less that square root of the poluation size i.e roughly 623 records."
   ]
  },
  {
   "cell_type": "code",
   "execution_count": 21,
   "metadata": {},
   "outputs": [
    {
     "data": {
      "text/plain": [
       "(19238, 10)"
      ]
     },
     "execution_count": 21,
     "metadata": {},
     "output_type": "execute_result"
    }
   ],
   "source": [
    "boxing_data.dropna(how='any').shape"
   ]
  },
  {
   "cell_type": "markdown",
   "metadata": {},
   "source": [
    "Observation: We would have roughly __19238 records__ still left. That will be enough for us come up with the analysis"
   ]
  },
  {
   "cell_type": "code",
   "execution_count": 22,
   "metadata": {},
   "outputs": [],
   "source": [
    "boxing_data.dropna(how='any', inplace=True)"
   ]
  },
  {
   "cell_type": "code",
   "execution_count": 23,
   "metadata": {},
   "outputs": [
    {
     "data": {
      "text/plain": [
       "(19238, 10)"
      ]
     },
     "execution_count": 23,
     "metadata": {},
     "output_type": "execute_result"
    }
   ],
   "source": [
    "boxing_data.shape"
   ]
  },
  {
   "cell_type": "markdown",
   "metadata": {},
   "source": [
    "<a name=\"section302\"></a>\n",
    "\n",
    "### 3.2 Pre Profiling"
   ]
  },
  {
   "cell_type": "code",
   "execution_count": 24,
   "metadata": {},
   "outputs": [],
   "source": [
    "profile=pandas_profiling.ProfileReport(boxing_data)\n",
    "profile.to_file(output_file=\"boxing_before_preprocessing.html\")"
   ]
  },
  {
   "cell_type": "markdown",
   "metadata": {},
   "source": [
    "<a name=\"section303\"></a>\n",
    "\n",
    "### 3.3 Preprocessing"
   ]
  },
  {
   "cell_type": "markdown",
   "metadata": {},
   "source": [
    "__Observation1:__ After going through the profiling report, we realise that there are some discreprencies in the age column where we see some boxers having age less that 16 and some have age greater that 50. So we thought of simply eliminating them as they are less in number."
   ]
  },
  {
   "cell_type": "code",
   "execution_count": 25,
   "metadata": {},
   "outputs": [
    {
     "data": {
      "text/plain": [
       "(19197, 10)"
      ]
     },
     "execution_count": 25,
     "metadata": {},
     "output_type": "execute_result"
    }
   ],
   "source": [
    "boxing_data=boxing_data[boxing_data.age_A > 16]\n",
    "boxing_data=boxing_data[boxing_data.age_A < 50]\n",
    "boxing_data.shape"
   ]
  },
  {
   "cell_type": "code",
   "execution_count": 26,
   "metadata": {},
   "outputs": [
    {
     "data": {
      "text/plain": [
       "(19139, 10)"
      ]
     },
     "execution_count": 26,
     "metadata": {},
     "output_type": "execute_result"
    }
   ],
   "source": [
    "boxing_data=boxing_data[boxing_data.age_B > 16]\n",
    "boxing_data=boxing_data[boxing_data.age_B < 50]\n",
    "boxing_data.shape"
   ]
  },
  {
   "cell_type": "markdown",
   "metadata": {},
   "source": [
    "__Observation2:__ We also saw one strange relation between stance of boxer A and B. We came to know that stance of both the boxers are same in each scenario. Hence we cannot draw any inference from these columns. So better we delete the same."
   ]
  },
  {
   "cell_type": "code",
   "execution_count": 27,
   "metadata": {},
   "outputs": [],
   "source": [
    "boxing_data.drop(['stance_A','stance_B'],axis=1,inplace=True)"
   ]
  },
  {
   "cell_type": "code",
   "execution_count": 28,
   "metadata": {},
   "outputs": [
    {
     "data": {
      "text/plain": [
       "(19139, 8)"
      ]
     },
     "execution_count": 28,
     "metadata": {},
     "output_type": "execute_result"
    }
   ],
   "source": [
    "boxing_data.shape"
   ]
  },
  {
   "cell_type": "code",
   "execution_count": 29,
   "metadata": {},
   "outputs": [
    {
     "data": {
      "text/plain": [
       "Index(['age_A', 'age_B', 'height_A', 'height_B', 'reach_A', 'reach_B',\n",
       "       'result', 'decision'],\n",
       "      dtype='object')"
      ]
     },
     "execution_count": 29,
     "metadata": {},
     "output_type": "execute_result"
    }
   ],
   "source": [
    "boxing_data.columns"
   ]
  },
  {
   "cell_type": "code",
   "execution_count": 30,
   "metadata": {},
   "outputs": [
    {
     "data": {
      "text/html": [
       "<div>\n",
       "<style scoped>\n",
       "    .dataframe tbody tr th:only-of-type {\n",
       "        vertical-align: middle;\n",
       "    }\n",
       "\n",
       "    .dataframe tbody tr th {\n",
       "        vertical-align: top;\n",
       "    }\n",
       "\n",
       "    .dataframe thead th {\n",
       "        text-align: right;\n",
       "    }\n",
       "</style>\n",
       "<table border=\"1\" class=\"dataframe\">\n",
       "  <thead>\n",
       "    <tr style=\"text-align: right;\">\n",
       "      <th></th>\n",
       "      <th>age_A</th>\n",
       "      <th>age_B</th>\n",
       "      <th>height_A</th>\n",
       "      <th>height_B</th>\n",
       "      <th>reach_A</th>\n",
       "      <th>reach_B</th>\n",
       "      <th>result</th>\n",
       "      <th>decision</th>\n",
       "    </tr>\n",
       "  </thead>\n",
       "  <tbody>\n",
       "    <tr>\n",
       "      <th>0</th>\n",
       "      <td>35.0</td>\n",
       "      <td>27.0</td>\n",
       "      <td>179.0</td>\n",
       "      <td>175.0</td>\n",
       "      <td>178.0</td>\n",
       "      <td>179.0</td>\n",
       "      <td>draw</td>\n",
       "      <td>SD</td>\n",
       "    </tr>\n",
       "    <tr>\n",
       "      <th>1</th>\n",
       "      <td>26.0</td>\n",
       "      <td>31.0</td>\n",
       "      <td>175.0</td>\n",
       "      <td>185.0</td>\n",
       "      <td>179.0</td>\n",
       "      <td>185.0</td>\n",
       "      <td>win_A</td>\n",
       "      <td>UD</td>\n",
       "    </tr>\n",
       "    <tr>\n",
       "      <th>3</th>\n",
       "      <td>25.0</td>\n",
       "      <td>29.0</td>\n",
       "      <td>175.0</td>\n",
       "      <td>174.0</td>\n",
       "      <td>179.0</td>\n",
       "      <td>180.0</td>\n",
       "      <td>win_A</td>\n",
       "      <td>KO</td>\n",
       "    </tr>\n",
       "    <tr>\n",
       "      <th>4</th>\n",
       "      <td>25.0</td>\n",
       "      <td>35.0</td>\n",
       "      <td>175.0</td>\n",
       "      <td>170.0</td>\n",
       "      <td>179.0</td>\n",
       "      <td>170.0</td>\n",
       "      <td>win_A</td>\n",
       "      <td>UD</td>\n",
       "    </tr>\n",
       "    <tr>\n",
       "      <th>5</th>\n",
       "      <td>24.0</td>\n",
       "      <td>31.0</td>\n",
       "      <td>175.0</td>\n",
       "      <td>175.0</td>\n",
       "      <td>179.0</td>\n",
       "      <td>178.0</td>\n",
       "      <td>win_A</td>\n",
       "      <td>KO</td>\n",
       "    </tr>\n",
       "  </tbody>\n",
       "</table>\n",
       "</div>"
      ],
      "text/plain": [
       "   age_A  age_B  height_A  height_B  reach_A  reach_B result decision\n",
       "0   35.0   27.0     179.0     175.0    178.0    179.0   draw       SD\n",
       "1   26.0   31.0     175.0     185.0    179.0    185.0  win_A       UD\n",
       "3   25.0   29.0     175.0     174.0    179.0    180.0  win_A       KO\n",
       "4   25.0   35.0     175.0     170.0    179.0    170.0  win_A       UD\n",
       "5   24.0   31.0     175.0     175.0    179.0    178.0  win_A       KO"
      ]
     },
     "execution_count": 30,
     "metadata": {},
     "output_type": "execute_result"
    }
   ],
   "source": [
    "boxing_data.head()"
   ]
  },
  {
   "cell_type": "markdown",
   "metadata": {},
   "source": [
    "__Observation 3:__ As we had deleted the data, so we see inconsistency in the index values (3 coming after 1). So lets just reset the index values"
   ]
  },
  {
   "cell_type": "code",
   "execution_count": 31,
   "metadata": {},
   "outputs": [],
   "source": [
    "boxing_data.reset_index(inplace=True)"
   ]
  },
  {
   "cell_type": "code",
   "execution_count": 32,
   "metadata": {
    "scrolled": true
   },
   "outputs": [
    {
     "data": {
      "text/html": [
       "<div>\n",
       "<style scoped>\n",
       "    .dataframe tbody tr th:only-of-type {\n",
       "        vertical-align: middle;\n",
       "    }\n",
       "\n",
       "    .dataframe tbody tr th {\n",
       "        vertical-align: top;\n",
       "    }\n",
       "\n",
       "    .dataframe thead th {\n",
       "        text-align: right;\n",
       "    }\n",
       "</style>\n",
       "<table border=\"1\" class=\"dataframe\">\n",
       "  <thead>\n",
       "    <tr style=\"text-align: right;\">\n",
       "      <th></th>\n",
       "      <th>index</th>\n",
       "      <th>age_A</th>\n",
       "      <th>age_B</th>\n",
       "      <th>height_A</th>\n",
       "      <th>height_B</th>\n",
       "      <th>reach_A</th>\n",
       "      <th>reach_B</th>\n",
       "      <th>result</th>\n",
       "      <th>decision</th>\n",
       "    </tr>\n",
       "  </thead>\n",
       "  <tbody>\n",
       "    <tr>\n",
       "      <th>0</th>\n",
       "      <td>0</td>\n",
       "      <td>35.0</td>\n",
       "      <td>27.0</td>\n",
       "      <td>179.0</td>\n",
       "      <td>175.0</td>\n",
       "      <td>178.0</td>\n",
       "      <td>179.0</td>\n",
       "      <td>draw</td>\n",
       "      <td>SD</td>\n",
       "    </tr>\n",
       "    <tr>\n",
       "      <th>1</th>\n",
       "      <td>1</td>\n",
       "      <td>26.0</td>\n",
       "      <td>31.0</td>\n",
       "      <td>175.0</td>\n",
       "      <td>185.0</td>\n",
       "      <td>179.0</td>\n",
       "      <td>185.0</td>\n",
       "      <td>win_A</td>\n",
       "      <td>UD</td>\n",
       "    </tr>\n",
       "    <tr>\n",
       "      <th>2</th>\n",
       "      <td>3</td>\n",
       "      <td>25.0</td>\n",
       "      <td>29.0</td>\n",
       "      <td>175.0</td>\n",
       "      <td>174.0</td>\n",
       "      <td>179.0</td>\n",
       "      <td>180.0</td>\n",
       "      <td>win_A</td>\n",
       "      <td>KO</td>\n",
       "    </tr>\n",
       "    <tr>\n",
       "      <th>3</th>\n",
       "      <td>4</td>\n",
       "      <td>25.0</td>\n",
       "      <td>35.0</td>\n",
       "      <td>175.0</td>\n",
       "      <td>170.0</td>\n",
       "      <td>179.0</td>\n",
       "      <td>170.0</td>\n",
       "      <td>win_A</td>\n",
       "      <td>UD</td>\n",
       "    </tr>\n",
       "    <tr>\n",
       "      <th>4</th>\n",
       "      <td>5</td>\n",
       "      <td>24.0</td>\n",
       "      <td>31.0</td>\n",
       "      <td>175.0</td>\n",
       "      <td>175.0</td>\n",
       "      <td>179.0</td>\n",
       "      <td>178.0</td>\n",
       "      <td>win_A</td>\n",
       "      <td>KO</td>\n",
       "    </tr>\n",
       "  </tbody>\n",
       "</table>\n",
       "</div>"
      ],
      "text/plain": [
       "   index  age_A  age_B  height_A  height_B  reach_A  reach_B result decision\n",
       "0      0   35.0   27.0     179.0     175.0    178.0    179.0   draw       SD\n",
       "1      1   26.0   31.0     175.0     185.0    179.0    185.0  win_A       UD\n",
       "2      3   25.0   29.0     175.0     174.0    179.0    180.0  win_A       KO\n",
       "3      4   25.0   35.0     175.0     170.0    179.0    170.0  win_A       UD\n",
       "4      5   24.0   31.0     175.0     175.0    179.0    178.0  win_A       KO"
      ]
     },
     "execution_count": 32,
     "metadata": {},
     "output_type": "execute_result"
    }
   ],
   "source": [
    "boxing_data.head()"
   ]
  },
  {
   "cell_type": "markdown",
   "metadata": {},
   "source": [
    "__Observation 4:__ In the pre-processing profile report, we see extreme values of reach for both fighter, which are not possible. Since they are less in number, we will simply delete the same"
   ]
  },
  {
   "cell_type": "code",
   "execution_count": 33,
   "metadata": {},
   "outputs": [],
   "source": [
    "boxing_data.set_index('reach_A',inplace=True)"
   ]
  },
  {
   "cell_type": "code",
   "execution_count": 34,
   "metadata": {},
   "outputs": [
    {
     "data": {
      "text/html": [
       "<div>\n",
       "<style scoped>\n",
       "    .dataframe tbody tr th:only-of-type {\n",
       "        vertical-align: middle;\n",
       "    }\n",
       "\n",
       "    .dataframe tbody tr th {\n",
       "        vertical-align: top;\n",
       "    }\n",
       "\n",
       "    .dataframe thead th {\n",
       "        text-align: right;\n",
       "    }\n",
       "</style>\n",
       "<table border=\"1\" class=\"dataframe\">\n",
       "  <thead>\n",
       "    <tr style=\"text-align: right;\">\n",
       "      <th></th>\n",
       "      <th>index</th>\n",
       "      <th>age_A</th>\n",
       "      <th>age_B</th>\n",
       "      <th>height_A</th>\n",
       "      <th>height_B</th>\n",
       "      <th>reach_B</th>\n",
       "      <th>result</th>\n",
       "      <th>decision</th>\n",
       "    </tr>\n",
       "    <tr>\n",
       "      <th>reach_A</th>\n",
       "      <th></th>\n",
       "      <th></th>\n",
       "      <th></th>\n",
       "      <th></th>\n",
       "      <th></th>\n",
       "      <th></th>\n",
       "      <th></th>\n",
       "      <th></th>\n",
       "    </tr>\n",
       "  </thead>\n",
       "  <tbody>\n",
       "    <tr>\n",
       "      <th>178.0</th>\n",
       "      <td>0</td>\n",
       "      <td>35.0</td>\n",
       "      <td>27.0</td>\n",
       "      <td>179.0</td>\n",
       "      <td>175.0</td>\n",
       "      <td>179.0</td>\n",
       "      <td>draw</td>\n",
       "      <td>SD</td>\n",
       "    </tr>\n",
       "    <tr>\n",
       "      <th>179.0</th>\n",
       "      <td>1</td>\n",
       "      <td>26.0</td>\n",
       "      <td>31.0</td>\n",
       "      <td>175.0</td>\n",
       "      <td>185.0</td>\n",
       "      <td>185.0</td>\n",
       "      <td>win_A</td>\n",
       "      <td>UD</td>\n",
       "    </tr>\n",
       "    <tr>\n",
       "      <th>179.0</th>\n",
       "      <td>3</td>\n",
       "      <td>25.0</td>\n",
       "      <td>29.0</td>\n",
       "      <td>175.0</td>\n",
       "      <td>174.0</td>\n",
       "      <td>180.0</td>\n",
       "      <td>win_A</td>\n",
       "      <td>KO</td>\n",
       "    </tr>\n",
       "    <tr>\n",
       "      <th>179.0</th>\n",
       "      <td>4</td>\n",
       "      <td>25.0</td>\n",
       "      <td>35.0</td>\n",
       "      <td>175.0</td>\n",
       "      <td>170.0</td>\n",
       "      <td>170.0</td>\n",
       "      <td>win_A</td>\n",
       "      <td>UD</td>\n",
       "    </tr>\n",
       "    <tr>\n",
       "      <th>179.0</th>\n",
       "      <td>5</td>\n",
       "      <td>24.0</td>\n",
       "      <td>31.0</td>\n",
       "      <td>175.0</td>\n",
       "      <td>175.0</td>\n",
       "      <td>178.0</td>\n",
       "      <td>win_A</td>\n",
       "      <td>KO</td>\n",
       "    </tr>\n",
       "  </tbody>\n",
       "</table>\n",
       "</div>"
      ],
      "text/plain": [
       "         index  age_A  age_B  height_A  height_B  reach_B result decision\n",
       "reach_A                                                                  \n",
       "178.0        0   35.0   27.0     179.0     175.0    179.0   draw       SD\n",
       "179.0        1   26.0   31.0     175.0     185.0    185.0  win_A       UD\n",
       "179.0        3   25.0   29.0     175.0     174.0    180.0  win_A       KO\n",
       "179.0        4   25.0   35.0     175.0     170.0    170.0  win_A       UD\n",
       "179.0        5   24.0   31.0     175.0     175.0    178.0  win_A       KO"
      ]
     },
     "execution_count": 34,
     "metadata": {},
     "output_type": "execute_result"
    }
   ],
   "source": [
    "boxing_data.head()"
   ]
  },
  {
   "cell_type": "code",
   "execution_count": 35,
   "metadata": {},
   "outputs": [],
   "source": [
    "boxing_data.drop(58,inplace=True)\n",
    "boxing_data.drop(69,inplace=True)\n",
    "boxing_data.drop(73,inplace=True)\n",
    "boxing_data.drop(98,inplace=True)\n",
    "boxing_data.drop(456,inplace=True)\n",
    "boxing_data.drop(427,inplace=True)"
   ]
  },
  {
   "cell_type": "code",
   "execution_count": 36,
   "metadata": {},
   "outputs": [
    {
     "data": {
      "text/html": [
       "<div>\n",
       "<style scoped>\n",
       "    .dataframe tbody tr th:only-of-type {\n",
       "        vertical-align: middle;\n",
       "    }\n",
       "\n",
       "    .dataframe tbody tr th {\n",
       "        vertical-align: top;\n",
       "    }\n",
       "\n",
       "    .dataframe thead th {\n",
       "        text-align: right;\n",
       "    }\n",
       "</style>\n",
       "<table border=\"1\" class=\"dataframe\">\n",
       "  <thead>\n",
       "    <tr style=\"text-align: right;\">\n",
       "      <th></th>\n",
       "      <th>index</th>\n",
       "      <th>age_A</th>\n",
       "      <th>age_B</th>\n",
       "      <th>height_A</th>\n",
       "      <th>height_B</th>\n",
       "      <th>reach_B</th>\n",
       "      <th>result</th>\n",
       "      <th>decision</th>\n",
       "    </tr>\n",
       "    <tr>\n",
       "      <th>reach_A</th>\n",
       "      <th></th>\n",
       "      <th></th>\n",
       "      <th></th>\n",
       "      <th></th>\n",
       "      <th></th>\n",
       "      <th></th>\n",
       "      <th></th>\n",
       "      <th></th>\n",
       "    </tr>\n",
       "  </thead>\n",
       "  <tbody>\n",
       "    <tr>\n",
       "      <th>178.0</th>\n",
       "      <td>0</td>\n",
       "      <td>35.0</td>\n",
       "      <td>27.0</td>\n",
       "      <td>179.0</td>\n",
       "      <td>175.0</td>\n",
       "      <td>179.0</td>\n",
       "      <td>draw</td>\n",
       "      <td>SD</td>\n",
       "    </tr>\n",
       "    <tr>\n",
       "      <th>179.0</th>\n",
       "      <td>1</td>\n",
       "      <td>26.0</td>\n",
       "      <td>31.0</td>\n",
       "      <td>175.0</td>\n",
       "      <td>185.0</td>\n",
       "      <td>185.0</td>\n",
       "      <td>win_A</td>\n",
       "      <td>UD</td>\n",
       "    </tr>\n",
       "    <tr>\n",
       "      <th>179.0</th>\n",
       "      <td>3</td>\n",
       "      <td>25.0</td>\n",
       "      <td>29.0</td>\n",
       "      <td>175.0</td>\n",
       "      <td>174.0</td>\n",
       "      <td>180.0</td>\n",
       "      <td>win_A</td>\n",
       "      <td>KO</td>\n",
       "    </tr>\n",
       "    <tr>\n",
       "      <th>179.0</th>\n",
       "      <td>4</td>\n",
       "      <td>25.0</td>\n",
       "      <td>35.0</td>\n",
       "      <td>175.0</td>\n",
       "      <td>170.0</td>\n",
       "      <td>170.0</td>\n",
       "      <td>win_A</td>\n",
       "      <td>UD</td>\n",
       "    </tr>\n",
       "    <tr>\n",
       "      <th>179.0</th>\n",
       "      <td>5</td>\n",
       "      <td>24.0</td>\n",
       "      <td>31.0</td>\n",
       "      <td>175.0</td>\n",
       "      <td>175.0</td>\n",
       "      <td>178.0</td>\n",
       "      <td>win_A</td>\n",
       "      <td>KO</td>\n",
       "    </tr>\n",
       "  </tbody>\n",
       "</table>\n",
       "</div>"
      ],
      "text/plain": [
       "         index  age_A  age_B  height_A  height_B  reach_B result decision\n",
       "reach_A                                                                  \n",
       "178.0        0   35.0   27.0     179.0     175.0    179.0   draw       SD\n",
       "179.0        1   26.0   31.0     175.0     185.0    185.0  win_A       UD\n",
       "179.0        3   25.0   29.0     175.0     174.0    180.0  win_A       KO\n",
       "179.0        4   25.0   35.0     175.0     170.0    170.0  win_A       UD\n",
       "179.0        5   24.0   31.0     175.0     175.0    178.0  win_A       KO"
      ]
     },
     "execution_count": 36,
     "metadata": {},
     "output_type": "execute_result"
    }
   ],
   "source": [
    "boxing_data.head()"
   ]
  },
  {
   "cell_type": "code",
   "execution_count": 37,
   "metadata": {},
   "outputs": [
    {
     "data": {
      "text/html": [
       "<div>\n",
       "<style scoped>\n",
       "    .dataframe tbody tr th:only-of-type {\n",
       "        vertical-align: middle;\n",
       "    }\n",
       "\n",
       "    .dataframe tbody tr th {\n",
       "        vertical-align: top;\n",
       "    }\n",
       "\n",
       "    .dataframe thead th {\n",
       "        text-align: right;\n",
       "    }\n",
       "</style>\n",
       "<table border=\"1\" class=\"dataframe\">\n",
       "  <thead>\n",
       "    <tr style=\"text-align: right;\">\n",
       "      <th></th>\n",
       "      <th>reach_A</th>\n",
       "      <th>index</th>\n",
       "      <th>age_A</th>\n",
       "      <th>age_B</th>\n",
       "      <th>height_A</th>\n",
       "      <th>height_B</th>\n",
       "      <th>reach_B</th>\n",
       "      <th>result</th>\n",
       "      <th>decision</th>\n",
       "    </tr>\n",
       "  </thead>\n",
       "  <tbody>\n",
       "    <tr>\n",
       "      <th>0</th>\n",
       "      <td>178.0</td>\n",
       "      <td>0</td>\n",
       "      <td>35.0</td>\n",
       "      <td>27.0</td>\n",
       "      <td>179.0</td>\n",
       "      <td>175.0</td>\n",
       "      <td>179.0</td>\n",
       "      <td>draw</td>\n",
       "      <td>SD</td>\n",
       "    </tr>\n",
       "    <tr>\n",
       "      <th>1</th>\n",
       "      <td>179.0</td>\n",
       "      <td>1</td>\n",
       "      <td>26.0</td>\n",
       "      <td>31.0</td>\n",
       "      <td>175.0</td>\n",
       "      <td>185.0</td>\n",
       "      <td>185.0</td>\n",
       "      <td>win_A</td>\n",
       "      <td>UD</td>\n",
       "    </tr>\n",
       "    <tr>\n",
       "      <th>2</th>\n",
       "      <td>179.0</td>\n",
       "      <td>3</td>\n",
       "      <td>25.0</td>\n",
       "      <td>29.0</td>\n",
       "      <td>175.0</td>\n",
       "      <td>174.0</td>\n",
       "      <td>180.0</td>\n",
       "      <td>win_A</td>\n",
       "      <td>KO</td>\n",
       "    </tr>\n",
       "    <tr>\n",
       "      <th>3</th>\n",
       "      <td>179.0</td>\n",
       "      <td>4</td>\n",
       "      <td>25.0</td>\n",
       "      <td>35.0</td>\n",
       "      <td>175.0</td>\n",
       "      <td>170.0</td>\n",
       "      <td>170.0</td>\n",
       "      <td>win_A</td>\n",
       "      <td>UD</td>\n",
       "    </tr>\n",
       "    <tr>\n",
       "      <th>4</th>\n",
       "      <td>179.0</td>\n",
       "      <td>5</td>\n",
       "      <td>24.0</td>\n",
       "      <td>31.0</td>\n",
       "      <td>175.0</td>\n",
       "      <td>175.0</td>\n",
       "      <td>178.0</td>\n",
       "      <td>win_A</td>\n",
       "      <td>KO</td>\n",
       "    </tr>\n",
       "  </tbody>\n",
       "</table>\n",
       "</div>"
      ],
      "text/plain": [
       "   reach_A  index  age_A  age_B  height_A  height_B  reach_B result decision\n",
       "0    178.0      0   35.0   27.0     179.0     175.0    179.0   draw       SD\n",
       "1    179.0      1   26.0   31.0     175.0     185.0    185.0  win_A       UD\n",
       "2    179.0      3   25.0   29.0     175.0     174.0    180.0  win_A       KO\n",
       "3    179.0      4   25.0   35.0     175.0     170.0    170.0  win_A       UD\n",
       "4    179.0      5   24.0   31.0     175.0     175.0    178.0  win_A       KO"
      ]
     },
     "execution_count": 37,
     "metadata": {},
     "output_type": "execute_result"
    }
   ],
   "source": [
    "boxing_data.reset_index(inplace=True)\n",
    "boxing_data.head()"
   ]
  },
  {
   "cell_type": "markdown",
   "metadata": {},
   "source": [
    "Lets just remove the old index values which has come up as an additional column and thus causing confusion"
   ]
  },
  {
   "cell_type": "code",
   "execution_count": 38,
   "metadata": {},
   "outputs": [],
   "source": [
    "boxing_data.drop('index',axis=1,inplace=True)"
   ]
  },
  {
   "cell_type": "code",
   "execution_count": 39,
   "metadata": {},
   "outputs": [
    {
     "data": {
      "text/html": [
       "<div>\n",
       "<style scoped>\n",
       "    .dataframe tbody tr th:only-of-type {\n",
       "        vertical-align: middle;\n",
       "    }\n",
       "\n",
       "    .dataframe tbody tr th {\n",
       "        vertical-align: top;\n",
       "    }\n",
       "\n",
       "    .dataframe thead th {\n",
       "        text-align: right;\n",
       "    }\n",
       "</style>\n",
       "<table border=\"1\" class=\"dataframe\">\n",
       "  <thead>\n",
       "    <tr style=\"text-align: right;\">\n",
       "      <th></th>\n",
       "      <th>reach_A</th>\n",
       "      <th>age_A</th>\n",
       "      <th>age_B</th>\n",
       "      <th>height_A</th>\n",
       "      <th>height_B</th>\n",
       "      <th>reach_B</th>\n",
       "      <th>result</th>\n",
       "      <th>decision</th>\n",
       "    </tr>\n",
       "  </thead>\n",
       "  <tbody>\n",
       "    <tr>\n",
       "      <th>0</th>\n",
       "      <td>178.0</td>\n",
       "      <td>35.0</td>\n",
       "      <td>27.0</td>\n",
       "      <td>179.0</td>\n",
       "      <td>175.0</td>\n",
       "      <td>179.0</td>\n",
       "      <td>draw</td>\n",
       "      <td>SD</td>\n",
       "    </tr>\n",
       "    <tr>\n",
       "      <th>1</th>\n",
       "      <td>179.0</td>\n",
       "      <td>26.0</td>\n",
       "      <td>31.0</td>\n",
       "      <td>175.0</td>\n",
       "      <td>185.0</td>\n",
       "      <td>185.0</td>\n",
       "      <td>win_A</td>\n",
       "      <td>UD</td>\n",
       "    </tr>\n",
       "    <tr>\n",
       "      <th>2</th>\n",
       "      <td>179.0</td>\n",
       "      <td>25.0</td>\n",
       "      <td>29.0</td>\n",
       "      <td>175.0</td>\n",
       "      <td>174.0</td>\n",
       "      <td>180.0</td>\n",
       "      <td>win_A</td>\n",
       "      <td>KO</td>\n",
       "    </tr>\n",
       "    <tr>\n",
       "      <th>3</th>\n",
       "      <td>179.0</td>\n",
       "      <td>25.0</td>\n",
       "      <td>35.0</td>\n",
       "      <td>175.0</td>\n",
       "      <td>170.0</td>\n",
       "      <td>170.0</td>\n",
       "      <td>win_A</td>\n",
       "      <td>UD</td>\n",
       "    </tr>\n",
       "    <tr>\n",
       "      <th>4</th>\n",
       "      <td>179.0</td>\n",
       "      <td>24.0</td>\n",
       "      <td>31.0</td>\n",
       "      <td>175.0</td>\n",
       "      <td>175.0</td>\n",
       "      <td>178.0</td>\n",
       "      <td>win_A</td>\n",
       "      <td>KO</td>\n",
       "    </tr>\n",
       "  </tbody>\n",
       "</table>\n",
       "</div>"
      ],
      "text/plain": [
       "   reach_A  age_A  age_B  height_A  height_B  reach_B result decision\n",
       "0    178.0   35.0   27.0     179.0     175.0    179.0   draw       SD\n",
       "1    179.0   26.0   31.0     175.0     185.0    185.0  win_A       UD\n",
       "2    179.0   25.0   29.0     175.0     174.0    180.0  win_A       KO\n",
       "3    179.0   25.0   35.0     175.0     170.0    170.0  win_A       UD\n",
       "4    179.0   24.0   31.0     175.0     175.0    178.0  win_A       KO"
      ]
     },
     "execution_count": 39,
     "metadata": {},
     "output_type": "execute_result"
    }
   ],
   "source": [
    "boxing_data.head()"
   ]
  },
  {
   "cell_type": "markdown",
   "metadata": {},
   "source": [
    "Now lets move on with removing improbable extreme values of reach_B"
   ]
  },
  {
   "cell_type": "code",
   "execution_count": 40,
   "metadata": {},
   "outputs": [],
   "source": [
    "boxing_data.set_index('reach_B',inplace=True)"
   ]
  },
  {
   "cell_type": "code",
   "execution_count": 41,
   "metadata": {},
   "outputs": [],
   "source": [
    "boxing_data.drop(1,inplace=True)\n",
    "boxing_data.drop(24,inplace=True)\n",
    "boxing_data.drop(25,inplace=True)\n",
    "boxing_data.drop(26,inplace=True)\n",
    "boxing_data.drop(27,inplace=True)\n",
    "boxing_data.drop(456,inplace=True)\n",
    "boxing_data.drop(439,inplace=True)\n",
    "boxing_data.drop(229,inplace=True)"
   ]
  },
  {
   "cell_type": "code",
   "execution_count": 42,
   "metadata": {},
   "outputs": [
    {
     "data": {
      "text/html": [
       "<div>\n",
       "<style scoped>\n",
       "    .dataframe tbody tr th:only-of-type {\n",
       "        vertical-align: middle;\n",
       "    }\n",
       "\n",
       "    .dataframe tbody tr th {\n",
       "        vertical-align: top;\n",
       "    }\n",
       "\n",
       "    .dataframe thead th {\n",
       "        text-align: right;\n",
       "    }\n",
       "</style>\n",
       "<table border=\"1\" class=\"dataframe\">\n",
       "  <thead>\n",
       "    <tr style=\"text-align: right;\">\n",
       "      <th></th>\n",
       "      <th>reach_A</th>\n",
       "      <th>age_A</th>\n",
       "      <th>age_B</th>\n",
       "      <th>height_A</th>\n",
       "      <th>height_B</th>\n",
       "      <th>result</th>\n",
       "      <th>decision</th>\n",
       "    </tr>\n",
       "    <tr>\n",
       "      <th>reach_B</th>\n",
       "      <th></th>\n",
       "      <th></th>\n",
       "      <th></th>\n",
       "      <th></th>\n",
       "      <th></th>\n",
       "      <th></th>\n",
       "      <th></th>\n",
       "    </tr>\n",
       "  </thead>\n",
       "  <tbody>\n",
       "    <tr>\n",
       "      <th>179.0</th>\n",
       "      <td>178.0</td>\n",
       "      <td>35.0</td>\n",
       "      <td>27.0</td>\n",
       "      <td>179.0</td>\n",
       "      <td>175.0</td>\n",
       "      <td>draw</td>\n",
       "      <td>SD</td>\n",
       "    </tr>\n",
       "    <tr>\n",
       "      <th>185.0</th>\n",
       "      <td>179.0</td>\n",
       "      <td>26.0</td>\n",
       "      <td>31.0</td>\n",
       "      <td>175.0</td>\n",
       "      <td>185.0</td>\n",
       "      <td>win_A</td>\n",
       "      <td>UD</td>\n",
       "    </tr>\n",
       "    <tr>\n",
       "      <th>180.0</th>\n",
       "      <td>179.0</td>\n",
       "      <td>25.0</td>\n",
       "      <td>29.0</td>\n",
       "      <td>175.0</td>\n",
       "      <td>174.0</td>\n",
       "      <td>win_A</td>\n",
       "      <td>KO</td>\n",
       "    </tr>\n",
       "    <tr>\n",
       "      <th>170.0</th>\n",
       "      <td>179.0</td>\n",
       "      <td>25.0</td>\n",
       "      <td>35.0</td>\n",
       "      <td>175.0</td>\n",
       "      <td>170.0</td>\n",
       "      <td>win_A</td>\n",
       "      <td>UD</td>\n",
       "    </tr>\n",
       "    <tr>\n",
       "      <th>178.0</th>\n",
       "      <td>179.0</td>\n",
       "      <td>24.0</td>\n",
       "      <td>31.0</td>\n",
       "      <td>175.0</td>\n",
       "      <td>175.0</td>\n",
       "      <td>win_A</td>\n",
       "      <td>KO</td>\n",
       "    </tr>\n",
       "  </tbody>\n",
       "</table>\n",
       "</div>"
      ],
      "text/plain": [
       "         reach_A  age_A  age_B  height_A  height_B result decision\n",
       "reach_B                                                           \n",
       "179.0      178.0   35.0   27.0     179.0     175.0   draw       SD\n",
       "185.0      179.0   26.0   31.0     175.0     185.0  win_A       UD\n",
       "180.0      179.0   25.0   29.0     175.0     174.0  win_A       KO\n",
       "170.0      179.0   25.0   35.0     175.0     170.0  win_A       UD\n",
       "178.0      179.0   24.0   31.0     175.0     175.0  win_A       KO"
      ]
     },
     "execution_count": 42,
     "metadata": {},
     "output_type": "execute_result"
    }
   ],
   "source": [
    "boxing_data.head()"
   ]
  },
  {
   "cell_type": "code",
   "execution_count": 43,
   "metadata": {},
   "outputs": [
    {
     "data": {
      "text/html": [
       "<div>\n",
       "<style scoped>\n",
       "    .dataframe tbody tr th:only-of-type {\n",
       "        vertical-align: middle;\n",
       "    }\n",
       "\n",
       "    .dataframe tbody tr th {\n",
       "        vertical-align: top;\n",
       "    }\n",
       "\n",
       "    .dataframe thead th {\n",
       "        text-align: right;\n",
       "    }\n",
       "</style>\n",
       "<table border=\"1\" class=\"dataframe\">\n",
       "  <thead>\n",
       "    <tr style=\"text-align: right;\">\n",
       "      <th></th>\n",
       "      <th>reach_B</th>\n",
       "      <th>reach_A</th>\n",
       "      <th>age_A</th>\n",
       "      <th>age_B</th>\n",
       "      <th>height_A</th>\n",
       "      <th>height_B</th>\n",
       "      <th>result</th>\n",
       "      <th>decision</th>\n",
       "    </tr>\n",
       "  </thead>\n",
       "  <tbody>\n",
       "    <tr>\n",
       "      <th>0</th>\n",
       "      <td>179.0</td>\n",
       "      <td>178.0</td>\n",
       "      <td>35.0</td>\n",
       "      <td>27.0</td>\n",
       "      <td>179.0</td>\n",
       "      <td>175.0</td>\n",
       "      <td>draw</td>\n",
       "      <td>SD</td>\n",
       "    </tr>\n",
       "    <tr>\n",
       "      <th>1</th>\n",
       "      <td>185.0</td>\n",
       "      <td>179.0</td>\n",
       "      <td>26.0</td>\n",
       "      <td>31.0</td>\n",
       "      <td>175.0</td>\n",
       "      <td>185.0</td>\n",
       "      <td>win_A</td>\n",
       "      <td>UD</td>\n",
       "    </tr>\n",
       "    <tr>\n",
       "      <th>2</th>\n",
       "      <td>180.0</td>\n",
       "      <td>179.0</td>\n",
       "      <td>25.0</td>\n",
       "      <td>29.0</td>\n",
       "      <td>175.0</td>\n",
       "      <td>174.0</td>\n",
       "      <td>win_A</td>\n",
       "      <td>KO</td>\n",
       "    </tr>\n",
       "    <tr>\n",
       "      <th>3</th>\n",
       "      <td>170.0</td>\n",
       "      <td>179.0</td>\n",
       "      <td>25.0</td>\n",
       "      <td>35.0</td>\n",
       "      <td>175.0</td>\n",
       "      <td>170.0</td>\n",
       "      <td>win_A</td>\n",
       "      <td>UD</td>\n",
       "    </tr>\n",
       "    <tr>\n",
       "      <th>4</th>\n",
       "      <td>178.0</td>\n",
       "      <td>179.0</td>\n",
       "      <td>24.0</td>\n",
       "      <td>31.0</td>\n",
       "      <td>175.0</td>\n",
       "      <td>175.0</td>\n",
       "      <td>win_A</td>\n",
       "      <td>KO</td>\n",
       "    </tr>\n",
       "  </tbody>\n",
       "</table>\n",
       "</div>"
      ],
      "text/plain": [
       "   reach_B  reach_A  age_A  age_B  height_A  height_B result decision\n",
       "0    179.0    178.0   35.0   27.0     179.0     175.0   draw       SD\n",
       "1    185.0    179.0   26.0   31.0     175.0     185.0  win_A       UD\n",
       "2    180.0    179.0   25.0   29.0     175.0     174.0  win_A       KO\n",
       "3    170.0    179.0   25.0   35.0     175.0     170.0  win_A       UD\n",
       "4    178.0    179.0   24.0   31.0     175.0     175.0  win_A       KO"
      ]
     },
     "execution_count": 43,
     "metadata": {},
     "output_type": "execute_result"
    }
   ],
   "source": [
    "boxing_data.reset_index(inplace=True)\n",
    "boxing_data.head()"
   ]
  },
  {
   "cell_type": "code",
   "execution_count": 44,
   "metadata": {},
   "outputs": [
    {
     "data": {
      "text/plain": [
       "(19102, 8)"
      ]
     },
     "execution_count": 44,
     "metadata": {},
     "output_type": "execute_result"
    }
   ],
   "source": [
    "boxing_data.shape"
   ]
  },
  {
   "cell_type": "markdown",
   "metadata": {},
   "source": [
    "Now lets just get an overview of the data after cleaning it, before going for profile report generation"
   ]
  },
  {
   "cell_type": "code",
   "execution_count": 45,
   "metadata": {
    "scrolled": true
   },
   "outputs": [
    {
     "data": {
      "text/html": [
       "<div>\n",
       "<style scoped>\n",
       "    .dataframe tbody tr th:only-of-type {\n",
       "        vertical-align: middle;\n",
       "    }\n",
       "\n",
       "    .dataframe tbody tr th {\n",
       "        vertical-align: top;\n",
       "    }\n",
       "\n",
       "    .dataframe thead th {\n",
       "        text-align: right;\n",
       "    }\n",
       "</style>\n",
       "<table border=\"1\" class=\"dataframe\">\n",
       "  <thead>\n",
       "    <tr style=\"text-align: right;\">\n",
       "      <th></th>\n",
       "      <th>reach_B</th>\n",
       "      <th>reach_A</th>\n",
       "      <th>age_A</th>\n",
       "      <th>age_B</th>\n",
       "      <th>height_A</th>\n",
       "      <th>height_B</th>\n",
       "    </tr>\n",
       "  </thead>\n",
       "  <tbody>\n",
       "    <tr>\n",
       "      <th>count</th>\n",
       "      <td>19102.000000</td>\n",
       "      <td>19102.000000</td>\n",
       "      <td>19102.000000</td>\n",
       "      <td>19102.000000</td>\n",
       "      <td>19102.000000</td>\n",
       "      <td>19102.000000</td>\n",
       "    </tr>\n",
       "    <tr>\n",
       "      <th>mean</th>\n",
       "      <td>180.280599</td>\n",
       "      <td>181.034918</td>\n",
       "      <td>26.797089</td>\n",
       "      <td>28.393781</td>\n",
       "      <td>175.888179</td>\n",
       "      <td>175.117632</td>\n",
       "    </tr>\n",
       "    <tr>\n",
       "      <th>std</th>\n",
       "      <td>12.063889</td>\n",
       "      <td>11.435723</td>\n",
       "      <td>5.049504</td>\n",
       "      <td>5.150202</td>\n",
       "      <td>9.320125</td>\n",
       "      <td>9.128505</td>\n",
       "    </tr>\n",
       "    <tr>\n",
       "      <th>min</th>\n",
       "      <td>58.000000</td>\n",
       "      <td>150.000000</td>\n",
       "      <td>17.000000</td>\n",
       "      <td>17.000000</td>\n",
       "      <td>148.000000</td>\n",
       "      <td>148.000000</td>\n",
       "    </tr>\n",
       "    <tr>\n",
       "      <th>25%</th>\n",
       "      <td>173.000000</td>\n",
       "      <td>173.000000</td>\n",
       "      <td>23.000000</td>\n",
       "      <td>25.000000</td>\n",
       "      <td>170.000000</td>\n",
       "      <td>168.000000</td>\n",
       "    </tr>\n",
       "    <tr>\n",
       "      <th>50%</th>\n",
       "      <td>179.000000</td>\n",
       "      <td>180.000000</td>\n",
       "      <td>26.000000</td>\n",
       "      <td>28.000000</td>\n",
       "      <td>175.000000</td>\n",
       "      <td>175.000000</td>\n",
       "    </tr>\n",
       "    <tr>\n",
       "      <th>75%</th>\n",
       "      <td>188.000000</td>\n",
       "      <td>188.000000</td>\n",
       "      <td>30.000000</td>\n",
       "      <td>32.000000</td>\n",
       "      <td>182.000000</td>\n",
       "      <td>180.000000</td>\n",
       "    </tr>\n",
       "    <tr>\n",
       "      <th>max</th>\n",
       "      <td>224.000000</td>\n",
       "      <td>224.000000</td>\n",
       "      <td>49.000000</td>\n",
       "      <td>49.000000</td>\n",
       "      <td>213.000000</td>\n",
       "      <td>213.000000</td>\n",
       "    </tr>\n",
       "  </tbody>\n",
       "</table>\n",
       "</div>"
      ],
      "text/plain": [
       "            reach_B       reach_A         age_A         age_B      height_A  \\\n",
       "count  19102.000000  19102.000000  19102.000000  19102.000000  19102.000000   \n",
       "mean     180.280599    181.034918     26.797089     28.393781    175.888179   \n",
       "std       12.063889     11.435723      5.049504      5.150202      9.320125   \n",
       "min       58.000000    150.000000     17.000000     17.000000    148.000000   \n",
       "25%      173.000000    173.000000     23.000000     25.000000    170.000000   \n",
       "50%      179.000000    180.000000     26.000000     28.000000    175.000000   \n",
       "75%      188.000000    188.000000     30.000000     32.000000    182.000000   \n",
       "max      224.000000    224.000000     49.000000     49.000000    213.000000   \n",
       "\n",
       "           height_B  \n",
       "count  19102.000000  \n",
       "mean     175.117632  \n",
       "std        9.128505  \n",
       "min      148.000000  \n",
       "25%      168.000000  \n",
       "50%      175.000000  \n",
       "75%      180.000000  \n",
       "max      213.000000  "
      ]
     },
     "execution_count": 45,
     "metadata": {},
     "output_type": "execute_result"
    }
   ],
   "source": [
    "boxing_data.describe()"
   ]
  },
  {
   "cell_type": "markdown",
   "metadata": {},
   "source": [
    "<a name=\"section304\"></a>\n",
    "\n",
    "## 3.4 Post Pandas Profiling"
   ]
  },
  {
   "cell_type": "code",
   "execution_count": 46,
   "metadata": {},
   "outputs": [],
   "source": [
    "profile=pandas_profiling.ProfileReport(boxing_data)\n",
    "profile.to_file(output_file='boxing_after_preprocessing.html')"
   ]
  },
  {
   "cell_type": "markdown",
   "metadata": {},
   "source": [
    "<a name=\"section4\"></a>\n",
    "\n",
    "\n",
    "### 4. Questions"
   ]
  },
  {
   "cell_type": "markdown",
   "metadata": {},
   "source": [
    "<a name=\"section401\"></a>\n",
    "\n",
    "\n",
    "### 4.1 __How Height difference affects the outcome of the match?__\n"
   ]
  },
  {
   "cell_type": "markdown",
   "metadata": {},
   "source": [
    "We will create a new column which will contain the height difference between the two boxers."
   ]
  },
  {
   "cell_type": "code",
   "execution_count": 47,
   "metadata": {
    "scrolled": true
   },
   "outputs": [
    {
     "data": {
      "text/html": [
       "<div>\n",
       "<style scoped>\n",
       "    .dataframe tbody tr th:only-of-type {\n",
       "        vertical-align: middle;\n",
       "    }\n",
       "\n",
       "    .dataframe tbody tr th {\n",
       "        vertical-align: top;\n",
       "    }\n",
       "\n",
       "    .dataframe thead th {\n",
       "        text-align: right;\n",
       "    }\n",
       "</style>\n",
       "<table border=\"1\" class=\"dataframe\">\n",
       "  <thead>\n",
       "    <tr style=\"text-align: right;\">\n",
       "      <th></th>\n",
       "      <th>reach_B</th>\n",
       "      <th>reach_A</th>\n",
       "      <th>age_A</th>\n",
       "      <th>age_B</th>\n",
       "      <th>height_A</th>\n",
       "      <th>height_B</th>\n",
       "      <th>result</th>\n",
       "      <th>decision</th>\n",
       "      <th>height_diff</th>\n",
       "    </tr>\n",
       "  </thead>\n",
       "  <tbody>\n",
       "    <tr>\n",
       "      <th>0</th>\n",
       "      <td>179.0</td>\n",
       "      <td>178.0</td>\n",
       "      <td>35.0</td>\n",
       "      <td>27.0</td>\n",
       "      <td>179.0</td>\n",
       "      <td>175.0</td>\n",
       "      <td>draw</td>\n",
       "      <td>SD</td>\n",
       "      <td>4.0</td>\n",
       "    </tr>\n",
       "    <tr>\n",
       "      <th>1</th>\n",
       "      <td>185.0</td>\n",
       "      <td>179.0</td>\n",
       "      <td>26.0</td>\n",
       "      <td>31.0</td>\n",
       "      <td>175.0</td>\n",
       "      <td>185.0</td>\n",
       "      <td>win_A</td>\n",
       "      <td>UD</td>\n",
       "      <td>-10.0</td>\n",
       "    </tr>\n",
       "    <tr>\n",
       "      <th>2</th>\n",
       "      <td>180.0</td>\n",
       "      <td>179.0</td>\n",
       "      <td>25.0</td>\n",
       "      <td>29.0</td>\n",
       "      <td>175.0</td>\n",
       "      <td>174.0</td>\n",
       "      <td>win_A</td>\n",
       "      <td>KO</td>\n",
       "      <td>1.0</td>\n",
       "    </tr>\n",
       "    <tr>\n",
       "      <th>3</th>\n",
       "      <td>170.0</td>\n",
       "      <td>179.0</td>\n",
       "      <td>25.0</td>\n",
       "      <td>35.0</td>\n",
       "      <td>175.0</td>\n",
       "      <td>170.0</td>\n",
       "      <td>win_A</td>\n",
       "      <td>UD</td>\n",
       "      <td>5.0</td>\n",
       "    </tr>\n",
       "    <tr>\n",
       "      <th>4</th>\n",
       "      <td>178.0</td>\n",
       "      <td>179.0</td>\n",
       "      <td>24.0</td>\n",
       "      <td>31.0</td>\n",
       "      <td>175.0</td>\n",
       "      <td>175.0</td>\n",
       "      <td>win_A</td>\n",
       "      <td>KO</td>\n",
       "      <td>0.0</td>\n",
       "    </tr>\n",
       "  </tbody>\n",
       "</table>\n",
       "</div>"
      ],
      "text/plain": [
       "   reach_B  reach_A  age_A  age_B  height_A  height_B result decision  \\\n",
       "0    179.0    178.0   35.0   27.0     179.0     175.0   draw       SD   \n",
       "1    185.0    179.0   26.0   31.0     175.0     185.0  win_A       UD   \n",
       "2    180.0    179.0   25.0   29.0     175.0     174.0  win_A       KO   \n",
       "3    170.0    179.0   25.0   35.0     175.0     170.0  win_A       UD   \n",
       "4    178.0    179.0   24.0   31.0     175.0     175.0  win_A       KO   \n",
       "\n",
       "   height_diff  \n",
       "0          4.0  \n",
       "1        -10.0  \n",
       "2          1.0  \n",
       "3          5.0  \n",
       "4          0.0  "
      ]
     },
     "execution_count": 47,
     "metadata": {},
     "output_type": "execute_result"
    }
   ],
   "source": [
    "boxing_data['height_diff']=boxing_data['height_A'] - boxing_data['height_B']\n",
    "boxing_data.head()"
   ]
  },
  {
   "cell_type": "code",
   "execution_count": 48,
   "metadata": {
    "scrolled": true
   },
   "outputs": [
    {
     "data": {
      "text/plain": [
       "Text(0.5, 1.0, 'More_Height')"
      ]
     },
     "execution_count": 48,
     "metadata": {},
     "output_type": "execute_result"
    },
    {
     "data": {
      "image/png": "[encoded data removed]",
      "text/plain": [
       "<Figure size 1440x504 with 3 Axes>"
      ]
     },
     "metadata": {},
     "output_type": "display_data"
    }
   ],
   "source": [
    "f,ax = plt.subplots(1,3,figsize=(20,7))\n",
    "\n",
    "#boxing_data['result'][boxing_data['height_diff'] < 0].value_counts().plot.pie()\n",
    "#boxing_data['result'][boxing_data['height_diff'] < 0].value_counts().plot.pie()\n",
    "\n",
    "\n",
    "boxing_data['result'][boxing_data['height_diff'] < 0].value_counts().plot.pie(autopct='%1.1f%%',ax=ax[0],shadow=True)\n",
    "boxing_data['result'][boxing_data['height_diff'] == 0].value_counts().plot.pie(autopct='%1.1f%%',ax=ax[1],shadow=True)\n",
    "boxing_data['result'][boxing_data['height_diff'] > 0].value_counts().plot.pie(autopct='%1.1f%%',ax=ax[2],shadow=True)\n",
    "ax[0].set_title('Less_Height')\n",
    "ax[1].set_title('Same_Height')\n",
    "ax[2].set_title('More_Height')"
   ]
  },
  {
   "cell_type": "markdown",
   "metadata": {},
   "source": [
    "__Observation:__ As we can clearly see, the win percentage of boxer A is clearly on the rise from 78.4 to 81.7 to 84.4, as the height of the boxer A increases."
   ]
  },
  {
   "cell_type": "markdown",
   "metadata": {},
   "source": [
    "\n",
    "<a name=\"section402\"></a>\n",
    "### 4.2 __How Reach difference affects the outcome of the match?__\n"
   ]
  },
  {
   "cell_type": "markdown",
   "metadata": {},
   "source": [
    "We will create a new column which will contain the Reach difference between the two boxers."
   ]
  },
  {
   "cell_type": "code",
   "execution_count": 49,
   "metadata": {
    "scrolled": true
   },
   "outputs": [
    {
     "data": {
      "text/html": [
       "<div>\n",
       "<style scoped>\n",
       "    .dataframe tbody tr th:only-of-type {\n",
       "        vertical-align: middle;\n",
       "    }\n",
       "\n",
       "    .dataframe tbody tr th {\n",
       "        vertical-align: top;\n",
       "    }\n",
       "\n",
       "    .dataframe thead th {\n",
       "        text-align: right;\n",
       "    }\n",
       "</style>\n",
       "<table border=\"1\" class=\"dataframe\">\n",
       "  <thead>\n",
       "    <tr style=\"text-align: right;\">\n",
       "      <th></th>\n",
       "      <th>reach_B</th>\n",
       "      <th>reach_A</th>\n",
       "      <th>age_A</th>\n",
       "      <th>age_B</th>\n",
       "      <th>height_A</th>\n",
       "      <th>height_B</th>\n",
       "      <th>result</th>\n",
       "      <th>decision</th>\n",
       "      <th>height_diff</th>\n",
       "      <th>reach_diff</th>\n",
       "    </tr>\n",
       "  </thead>\n",
       "  <tbody>\n",
       "    <tr>\n",
       "      <th>0</th>\n",
       "      <td>179.0</td>\n",
       "      <td>178.0</td>\n",
       "      <td>35.0</td>\n",
       "      <td>27.0</td>\n",
       "      <td>179.0</td>\n",
       "      <td>175.0</td>\n",
       "      <td>draw</td>\n",
       "      <td>SD</td>\n",
       "      <td>4.0</td>\n",
       "      <td>-1.0</td>\n",
       "    </tr>\n",
       "    <tr>\n",
       "      <th>1</th>\n",
       "      <td>185.0</td>\n",
       "      <td>179.0</td>\n",
       "      <td>26.0</td>\n",
       "      <td>31.0</td>\n",
       "      <td>175.0</td>\n",
       "      <td>185.0</td>\n",
       "      <td>win_A</td>\n",
       "      <td>UD</td>\n",
       "      <td>-10.0</td>\n",
       "      <td>-6.0</td>\n",
       "    </tr>\n",
       "    <tr>\n",
       "      <th>2</th>\n",
       "      <td>180.0</td>\n",
       "      <td>179.0</td>\n",
       "      <td>25.0</td>\n",
       "      <td>29.0</td>\n",
       "      <td>175.0</td>\n",
       "      <td>174.0</td>\n",
       "      <td>win_A</td>\n",
       "      <td>KO</td>\n",
       "      <td>1.0</td>\n",
       "      <td>-1.0</td>\n",
       "    </tr>\n",
       "    <tr>\n",
       "      <th>3</th>\n",
       "      <td>170.0</td>\n",
       "      <td>179.0</td>\n",
       "      <td>25.0</td>\n",
       "      <td>35.0</td>\n",
       "      <td>175.0</td>\n",
       "      <td>170.0</td>\n",
       "      <td>win_A</td>\n",
       "      <td>UD</td>\n",
       "      <td>5.0</td>\n",
       "      <td>9.0</td>\n",
       "    </tr>\n",
       "    <tr>\n",
       "      <th>4</th>\n",
       "      <td>178.0</td>\n",
       "      <td>179.0</td>\n",
       "      <td>24.0</td>\n",
       "      <td>31.0</td>\n",
       "      <td>175.0</td>\n",
       "      <td>175.0</td>\n",
       "      <td>win_A</td>\n",
       "      <td>KO</td>\n",
       "      <td>0.0</td>\n",
       "      <td>1.0</td>\n",
       "    </tr>\n",
       "  </tbody>\n",
       "</table>\n",
       "</div>"
      ],
      "text/plain": [
       "   reach_B  reach_A  age_A  age_B  height_A  height_B result decision  \\\n",
       "0    179.0    178.0   35.0   27.0     179.0     175.0   draw       SD   \n",
       "1    185.0    179.0   26.0   31.0     175.0     185.0  win_A       UD   \n",
       "2    180.0    179.0   25.0   29.0     175.0     174.0  win_A       KO   \n",
       "3    170.0    179.0   25.0   35.0     175.0     170.0  win_A       UD   \n",
       "4    178.0    179.0   24.0   31.0     175.0     175.0  win_A       KO   \n",
       "\n",
       "   height_diff  reach_diff  \n",
       "0          4.0        -1.0  \n",
       "1        -10.0        -6.0  \n",
       "2          1.0        -1.0  \n",
       "3          5.0         9.0  \n",
       "4          0.0         1.0  "
      ]
     },
     "execution_count": 49,
     "metadata": {},
     "output_type": "execute_result"
    }
   ],
   "source": [
    "boxing_data['reach_diff']=boxing_data['reach_A'] - boxing_data['reach_B']\n",
    "boxing_data.head()"
   ]
  },
  {
   "cell_type": "code",
   "execution_count": 50,
   "metadata": {},
   "outputs": [
    {
     "data": {
      "text/plain": [
       "Text(0.5, 1.0, 'More Reach')"
      ]
     },
     "execution_count": 50,
     "metadata": {},
     "output_type": "execute_result"
    },
    {
     "data": {
      "image/png": "[encoded data removed]",
      "text/plain": [
       "<Figure size 1440x360 with 3 Axes>"
      ]
     },
     "metadata": {},
     "output_type": "display_data"
    }
   ],
   "source": [
    "f,ax = plt.subplots(1,3,figsize=(20,5))\n",
    "\n",
    "#boxing_data['result'][boxing_data['height_diff'] < 0].value_counts().plot.pie()\n",
    "#boxing_data['result'][boxing_data['height_diff'] < 0].value_counts().plot.pie()\n",
    "\n",
    "\n",
    "boxing_data['result'][boxing_data['reach_diff'] < 0].value_counts().plot.pie(autopct='%1.1f%%',ax=ax[0],shadow=True)\n",
    "boxing_data['result'][boxing_data['reach_diff'] == 0].value_counts().plot.pie(autopct='%1.1f%%',ax=ax[1],shadow=True)\n",
    "boxing_data['result'][boxing_data['reach_diff'] > 0].value_counts().plot.pie(autopct='%1.1f%%',ax=ax[2],shadow=True)\n",
    "ax[0].set_title('Less Reach')\n",
    "ax[1].set_title('Same Reach')\n",
    "ax[2].set_title('More Reach')"
   ]
  },
  {
   "cell_type": "markdown",
   "metadata": {},
   "source": [
    "__Observation:__ As we can clearly see, the win percentage of boxer A is clearly on the rise from 79.7 to 83.8, as the height of the boxer A increases. However their is slight decrease when the boxers have same reach. But there is also a decrease in loss percentage. So it should be having good impact but not as much"
   ]
  },
  {
   "cell_type": "markdown",
   "metadata": {},
   "source": [
    "\n",
    "<a name=\"section403\"></a>\n",
    "\n",
    "### 4.3 __How Age difference affects the outcome of the match?__\n"
   ]
  },
  {
   "cell_type": "markdown",
   "metadata": {},
   "source": [
    "We will create a new column which will contain the age difference between the two boxers."
   ]
  },
  {
   "cell_type": "code",
   "execution_count": 51,
   "metadata": {
    "scrolled": true
   },
   "outputs": [
    {
     "data": {
      "text/html": [
       "<div>\n",
       "<style scoped>\n",
       "    .dataframe tbody tr th:only-of-type {\n",
       "        vertical-align: middle;\n",
       "    }\n",
       "\n",
       "    .dataframe tbody tr th {\n",
       "        vertical-align: top;\n",
       "    }\n",
       "\n",
       "    .dataframe thead th {\n",
       "        text-align: right;\n",
       "    }\n",
       "</style>\n",
       "<table border=\"1\" class=\"dataframe\">\n",
       "  <thead>\n",
       "    <tr style=\"text-align: right;\">\n",
       "      <th></th>\n",
       "      <th>reach_B</th>\n",
       "      <th>reach_A</th>\n",
       "      <th>age_A</th>\n",
       "      <th>age_B</th>\n",
       "      <th>height_A</th>\n",
       "      <th>height_B</th>\n",
       "      <th>result</th>\n",
       "      <th>decision</th>\n",
       "      <th>height_diff</th>\n",
       "      <th>reach_diff</th>\n",
       "      <th>age_diff</th>\n",
       "    </tr>\n",
       "  </thead>\n",
       "  <tbody>\n",
       "    <tr>\n",
       "      <th>0</th>\n",
       "      <td>179.0</td>\n",
       "      <td>178.0</td>\n",
       "      <td>35.0</td>\n",
       "      <td>27.0</td>\n",
       "      <td>179.0</td>\n",
       "      <td>175.0</td>\n",
       "      <td>draw</td>\n",
       "      <td>SD</td>\n",
       "      <td>4.0</td>\n",
       "      <td>-1.0</td>\n",
       "      <td>8.0</td>\n",
       "    </tr>\n",
       "    <tr>\n",
       "      <th>1</th>\n",
       "      <td>185.0</td>\n",
       "      <td>179.0</td>\n",
       "      <td>26.0</td>\n",
       "      <td>31.0</td>\n",
       "      <td>175.0</td>\n",
       "      <td>185.0</td>\n",
       "      <td>win_A</td>\n",
       "      <td>UD</td>\n",
       "      <td>-10.0</td>\n",
       "      <td>-6.0</td>\n",
       "      <td>-5.0</td>\n",
       "    </tr>\n",
       "    <tr>\n",
       "      <th>2</th>\n",
       "      <td>180.0</td>\n",
       "      <td>179.0</td>\n",
       "      <td>25.0</td>\n",
       "      <td>29.0</td>\n",
       "      <td>175.0</td>\n",
       "      <td>174.0</td>\n",
       "      <td>win_A</td>\n",
       "      <td>KO</td>\n",
       "      <td>1.0</td>\n",
       "      <td>-1.0</td>\n",
       "      <td>-4.0</td>\n",
       "    </tr>\n",
       "    <tr>\n",
       "      <th>3</th>\n",
       "      <td>170.0</td>\n",
       "      <td>179.0</td>\n",
       "      <td>25.0</td>\n",
       "      <td>35.0</td>\n",
       "      <td>175.0</td>\n",
       "      <td>170.0</td>\n",
       "      <td>win_A</td>\n",
       "      <td>UD</td>\n",
       "      <td>5.0</td>\n",
       "      <td>9.0</td>\n",
       "      <td>-10.0</td>\n",
       "    </tr>\n",
       "    <tr>\n",
       "      <th>4</th>\n",
       "      <td>178.0</td>\n",
       "      <td>179.0</td>\n",
       "      <td>24.0</td>\n",
       "      <td>31.0</td>\n",
       "      <td>175.0</td>\n",
       "      <td>175.0</td>\n",
       "      <td>win_A</td>\n",
       "      <td>KO</td>\n",
       "      <td>0.0</td>\n",
       "      <td>1.0</td>\n",
       "      <td>-7.0</td>\n",
       "    </tr>\n",
       "  </tbody>\n",
       "</table>\n",
       "</div>"
      ],
      "text/plain": [
       "   reach_B  reach_A  age_A  age_B  height_A  height_B result decision  \\\n",
       "0    179.0    178.0   35.0   27.0     179.0     175.0   draw       SD   \n",
       "1    185.0    179.0   26.0   31.0     175.0     185.0  win_A       UD   \n",
       "2    180.0    179.0   25.0   29.0     175.0     174.0  win_A       KO   \n",
       "3    170.0    179.0   25.0   35.0     175.0     170.0  win_A       UD   \n",
       "4    178.0    179.0   24.0   31.0     175.0     175.0  win_A       KO   \n",
       "\n",
       "   height_diff  reach_diff  age_diff  \n",
       "0          4.0        -1.0       8.0  \n",
       "1        -10.0        -6.0      -5.0  \n",
       "2          1.0        -1.0      -4.0  \n",
       "3          5.0         9.0     -10.0  \n",
       "4          0.0         1.0      -7.0  "
      ]
     },
     "execution_count": 51,
     "metadata": {},
     "output_type": "execute_result"
    }
   ],
   "source": [
    "boxing_data['age_diff']=boxing_data['age_A'] - boxing_data['age_B']\n",
    "boxing_data.head()"
   ]
  },
  {
   "cell_type": "code",
   "execution_count": 52,
   "metadata": {
    "scrolled": true
   },
   "outputs": [
    {
     "data": {
      "text/plain": [
       "Text(0.5, 1.0, 'Elder')"
      ]
     },
     "execution_count": 52,
     "metadata": {},
     "output_type": "execute_result"
    },
    {
     "data": {
      "image/png": "[encoded data removed]",
      "text/plain": [
       "<Figure size 1440x504 with 3 Axes>"
      ]
     },
     "metadata": {},
     "output_type": "display_data"
    }
   ],
   "source": [
    "f,ax = plt.subplots(1,3,figsize=(20,7))\n",
    "\n",
    "#boxing_data['result'][boxing_data['height_diff'] < 0].value_counts().plot.pie()\n",
    "#boxing_data['result'][boxing_data['height_diff'] < 0].value_counts().plot.pie()\n",
    "\n",
    "\n",
    "boxing_data['result'][boxing_data['age_diff'] < 0].value_counts().plot.pie(autopct='%1.1f%%',ax=ax[0],shadow=True)\n",
    "boxing_data['result'][boxing_data['age_diff'] == 0].value_counts().plot.pie(autopct='%1.1f%%',ax=ax[1],shadow=True)\n",
    "boxing_data['result'][boxing_data['age_diff'] > 0].value_counts().plot.pie(autopct='%1.1f%%',ax=ax[2],shadow=True)\n",
    "ax[0].set_title('Younger')\n",
    "ax[1].set_title('Same Age')\n",
    "ax[2].set_title('Elder')"
   ]
  },
  {
   "cell_type": "markdown",
   "metadata": {},
   "source": [
    "__Observation:__ Here also as we speak, the winning percentage of Fighter A has increased from 73.3 % to 87% when Fighter A is younger than Fighter B. Clearly it seems this is a young man's sport."
   ]
  },
  {
   "cell_type": "markdown",
   "metadata": {},
   "source": [
    "\n",
    "<a name=\"section404\"></a>\n",
    "\n",
    "### 4.4 __Does height helps the boxers to win more dominantly?__\n"
   ]
  },
  {
   "cell_type": "markdown",
   "metadata": {},
   "source": [
    "We will consider victory by KO, TKO and RTD as dominant victories and categorise these as stoppage victories. While other victories as Decision and Others"
   ]
  },
  {
   "cell_type": "code",
   "execution_count": 53,
   "metadata": {},
   "outputs": [],
   "source": [
    "\n",
    "def decision_take(x):\n",
    "    if (x=='KO' or x=='TKO' or x=='RTD'):\n",
    "        return 'Stoppage'\n",
    "    if (x=='TD' or x=='DQ'):\n",
    "        return 'Others'\n",
    "    return 'Decision'\n",
    "\n",
    "boxing_data['decision_new']=boxing_data['decision'].apply(decision_take)\n",
    "    "
   ]
  },
  {
   "cell_type": "code",
   "execution_count": 54,
   "metadata": {},
   "outputs": [
    {
     "data": {
      "text/html": [
       "<div>\n",
       "<style scoped>\n",
       "    .dataframe tbody tr th:only-of-type {\n",
       "        vertical-align: middle;\n",
       "    }\n",
       "\n",
       "    .dataframe tbody tr th {\n",
       "        vertical-align: top;\n",
       "    }\n",
       "\n",
       "    .dataframe thead th {\n",
       "        text-align: right;\n",
       "    }\n",
       "</style>\n",
       "<table border=\"1\" class=\"dataframe\">\n",
       "  <thead>\n",
       "    <tr style=\"text-align: right;\">\n",
       "      <th></th>\n",
       "      <th>reach_B</th>\n",
       "      <th>reach_A</th>\n",
       "      <th>age_A</th>\n",
       "      <th>age_B</th>\n",
       "      <th>height_A</th>\n",
       "      <th>height_B</th>\n",
       "      <th>result</th>\n",
       "      <th>decision</th>\n",
       "      <th>height_diff</th>\n",
       "      <th>reach_diff</th>\n",
       "      <th>age_diff</th>\n",
       "      <th>decision_new</th>\n",
       "    </tr>\n",
       "  </thead>\n",
       "  <tbody>\n",
       "    <tr>\n",
       "      <th>0</th>\n",
       "      <td>179.0</td>\n",
       "      <td>178.0</td>\n",
       "      <td>35.0</td>\n",
       "      <td>27.0</td>\n",
       "      <td>179.0</td>\n",
       "      <td>175.0</td>\n",
       "      <td>draw</td>\n",
       "      <td>SD</td>\n",
       "      <td>4.0</td>\n",
       "      <td>-1.0</td>\n",
       "      <td>8.0</td>\n",
       "      <td>Decision</td>\n",
       "    </tr>\n",
       "    <tr>\n",
       "      <th>1</th>\n",
       "      <td>185.0</td>\n",
       "      <td>179.0</td>\n",
       "      <td>26.0</td>\n",
       "      <td>31.0</td>\n",
       "      <td>175.0</td>\n",
       "      <td>185.0</td>\n",
       "      <td>win_A</td>\n",
       "      <td>UD</td>\n",
       "      <td>-10.0</td>\n",
       "      <td>-6.0</td>\n",
       "      <td>-5.0</td>\n",
       "      <td>Decision</td>\n",
       "    </tr>\n",
       "    <tr>\n",
       "      <th>2</th>\n",
       "      <td>180.0</td>\n",
       "      <td>179.0</td>\n",
       "      <td>25.0</td>\n",
       "      <td>29.0</td>\n",
       "      <td>175.0</td>\n",
       "      <td>174.0</td>\n",
       "      <td>win_A</td>\n",
       "      <td>KO</td>\n",
       "      <td>1.0</td>\n",
       "      <td>-1.0</td>\n",
       "      <td>-4.0</td>\n",
       "      <td>Stoppage</td>\n",
       "    </tr>\n",
       "    <tr>\n",
       "      <th>3</th>\n",
       "      <td>170.0</td>\n",
       "      <td>179.0</td>\n",
       "      <td>25.0</td>\n",
       "      <td>35.0</td>\n",
       "      <td>175.0</td>\n",
       "      <td>170.0</td>\n",
       "      <td>win_A</td>\n",
       "      <td>UD</td>\n",
       "      <td>5.0</td>\n",
       "      <td>9.0</td>\n",
       "      <td>-10.0</td>\n",
       "      <td>Decision</td>\n",
       "    </tr>\n",
       "    <tr>\n",
       "      <th>4</th>\n",
       "      <td>178.0</td>\n",
       "      <td>179.0</td>\n",
       "      <td>24.0</td>\n",
       "      <td>31.0</td>\n",
       "      <td>175.0</td>\n",
       "      <td>175.0</td>\n",
       "      <td>win_A</td>\n",
       "      <td>KO</td>\n",
       "      <td>0.0</td>\n",
       "      <td>1.0</td>\n",
       "      <td>-7.0</td>\n",
       "      <td>Stoppage</td>\n",
       "    </tr>\n",
       "    <tr>\n",
       "      <th>5</th>\n",
       "      <td>188.0</td>\n",
       "      <td>179.0</td>\n",
       "      <td>23.0</td>\n",
       "      <td>31.0</td>\n",
       "      <td>175.0</td>\n",
       "      <td>175.0</td>\n",
       "      <td>win_A</td>\n",
       "      <td>SD</td>\n",
       "      <td>0.0</td>\n",
       "      <td>-9.0</td>\n",
       "      <td>-8.0</td>\n",
       "      <td>Decision</td>\n",
       "    </tr>\n",
       "    <tr>\n",
       "      <th>6</th>\n",
       "      <td>175.0</td>\n",
       "      <td>179.0</td>\n",
       "      <td>23.0</td>\n",
       "      <td>31.0</td>\n",
       "      <td>175.0</td>\n",
       "      <td>177.0</td>\n",
       "      <td>win_A</td>\n",
       "      <td>TKO</td>\n",
       "      <td>-2.0</td>\n",
       "      <td>4.0</td>\n",
       "      <td>-8.0</td>\n",
       "      <td>Stoppage</td>\n",
       "    </tr>\n",
       "    <tr>\n",
       "      <th>7</th>\n",
       "      <td>179.0</td>\n",
       "      <td>183.0</td>\n",
       "      <td>36.0</td>\n",
       "      <td>23.0</td>\n",
       "      <td>173.0</td>\n",
       "      <td>175.0</td>\n",
       "      <td>win_A</td>\n",
       "      <td>MD</td>\n",
       "      <td>-2.0</td>\n",
       "      <td>4.0</td>\n",
       "      <td>13.0</td>\n",
       "      <td>Decision</td>\n",
       "    </tr>\n",
       "    <tr>\n",
       "      <th>8</th>\n",
       "      <td>179.0</td>\n",
       "      <td>183.0</td>\n",
       "      <td>27.0</td>\n",
       "      <td>22.0</td>\n",
       "      <td>177.0</td>\n",
       "      <td>175.0</td>\n",
       "      <td>win_B</td>\n",
       "      <td>UD</td>\n",
       "      <td>2.0</td>\n",
       "      <td>4.0</td>\n",
       "      <td>5.0</td>\n",
       "      <td>Decision</td>\n",
       "    </tr>\n",
       "    <tr>\n",
       "      <th>9</th>\n",
       "      <td>175.0</td>\n",
       "      <td>179.0</td>\n",
       "      <td>22.0</td>\n",
       "      <td>28.0</td>\n",
       "      <td>175.0</td>\n",
       "      <td>177.0</td>\n",
       "      <td>win_A</td>\n",
       "      <td>TKO</td>\n",
       "      <td>-2.0</td>\n",
       "      <td>4.0</td>\n",
       "      <td>-6.0</td>\n",
       "      <td>Stoppage</td>\n",
       "    </tr>\n",
       "  </tbody>\n",
       "</table>\n",
       "</div>"
      ],
      "text/plain": [
       "   reach_B  reach_A  age_A  age_B  height_A  height_B result decision  \\\n",
       "0    179.0    178.0   35.0   27.0     179.0     175.0   draw       SD   \n",
       "1    185.0    179.0   26.0   31.0     175.0     185.0  win_A       UD   \n",
       "2    180.0    179.0   25.0   29.0     175.0     174.0  win_A       KO   \n",
       "3    170.0    179.0   25.0   35.0     175.0     170.0  win_A       UD   \n",
       "4    178.0    179.0   24.0   31.0     175.0     175.0  win_A       KO   \n",
       "5    188.0    179.0   23.0   31.0     175.0     175.0  win_A       SD   \n",
       "6    175.0    179.0   23.0   31.0     175.0     177.0  win_A      TKO   \n",
       "7    179.0    183.0   36.0   23.0     173.0     175.0  win_A       MD   \n",
       "8    179.0    183.0   27.0   22.0     177.0     175.0  win_B       UD   \n",
       "9    175.0    179.0   22.0   28.0     175.0     177.0  win_A      TKO   \n",
       "\n",
       "   height_diff  reach_diff  age_diff decision_new  \n",
       "0          4.0        -1.0       8.0     Decision  \n",
       "1        -10.0        -6.0      -5.0     Decision  \n",
       "2          1.0        -1.0      -4.0     Stoppage  \n",
       "3          5.0         9.0     -10.0     Decision  \n",
       "4          0.0         1.0      -7.0     Stoppage  \n",
       "5          0.0        -9.0      -8.0     Decision  \n",
       "6         -2.0         4.0      -8.0     Stoppage  \n",
       "7         -2.0         4.0      13.0     Decision  \n",
       "8          2.0         4.0       5.0     Decision  \n",
       "9         -2.0         4.0      -6.0     Stoppage  "
      ]
     },
     "execution_count": 54,
     "metadata": {},
     "output_type": "execute_result"
    }
   ],
   "source": [
    "boxing_data.head(10)"
   ]
  },
  {
   "cell_type": "markdown",
   "metadata": {},
   "source": [
    "To elaborate the data even further, we will add a new column which give details whether boxer A is shorter/taller, Younger/Older or has more/less reach than Boxer B."
   ]
  },
  {
   "cell_type": "code",
   "execution_count": 55,
   "metadata": {},
   "outputs": [],
   "source": [
    "def height_take(x):\n",
    "    if (x<0):\n",
    "        return 'Short'\n",
    "    if (x==0):\n",
    "        return 'Same'\n",
    "    return 'Tall'\n",
    "\n",
    "boxing_data['height_dec']=boxing_data['height_diff'].apply(height_take)"
   ]
  },
  {
   "cell_type": "code",
   "execution_count": 56,
   "metadata": {},
   "outputs": [],
   "source": [
    "def age_take(x):\n",
    "    if (x<0):\n",
    "        return 'Younger'\n",
    "    if (x==0):\n",
    "        return 'Same'\n",
    "    return 'Older'\n",
    "\n",
    "boxing_data['age_dec']=boxing_data['age_diff'].apply(age_take)"
   ]
  },
  {
   "cell_type": "code",
   "execution_count": 57,
   "metadata": {},
   "outputs": [],
   "source": [
    "def reach_take(x):\n",
    "    if (x<0):\n",
    "        return 'Short'\n",
    "    if (x==0):\n",
    "        return 'Same'\n",
    "    return 'Long'\n",
    "\n",
    "boxing_data['reach_dec']=boxing_data['reach_diff'].apply(reach_take)"
   ]
  },
  {
   "cell_type": "code",
   "execution_count": 58,
   "metadata": {},
   "outputs": [
    {
     "data": {
      "text/html": [
       "<div>\n",
       "<style scoped>\n",
       "    .dataframe tbody tr th:only-of-type {\n",
       "        vertical-align: middle;\n",
       "    }\n",
       "\n",
       "    .dataframe tbody tr th {\n",
       "        vertical-align: top;\n",
       "    }\n",
       "\n",
       "    .dataframe thead th {\n",
       "        text-align: right;\n",
       "    }\n",
       "</style>\n",
       "<table border=\"1\" class=\"dataframe\">\n",
       "  <thead>\n",
       "    <tr style=\"text-align: right;\">\n",
       "      <th></th>\n",
       "      <th>reach_B</th>\n",
       "      <th>reach_A</th>\n",
       "      <th>age_A</th>\n",
       "      <th>age_B</th>\n",
       "      <th>height_A</th>\n",
       "      <th>height_B</th>\n",
       "      <th>result</th>\n",
       "      <th>decision</th>\n",
       "      <th>height_diff</th>\n",
       "      <th>reach_diff</th>\n",
       "      <th>age_diff</th>\n",
       "      <th>decision_new</th>\n",
       "      <th>height_dec</th>\n",
       "      <th>age_dec</th>\n",
       "      <th>reach_dec</th>\n",
       "    </tr>\n",
       "  </thead>\n",
       "  <tbody>\n",
       "    <tr>\n",
       "      <th>0</th>\n",
       "      <td>179.0</td>\n",
       "      <td>178.0</td>\n",
       "      <td>35.0</td>\n",
       "      <td>27.0</td>\n",
       "      <td>179.0</td>\n",
       "      <td>175.0</td>\n",
       "      <td>draw</td>\n",
       "      <td>SD</td>\n",
       "      <td>4.0</td>\n",
       "      <td>-1.0</td>\n",
       "      <td>8.0</td>\n",
       "      <td>Decision</td>\n",
       "      <td>Tall</td>\n",
       "      <td>Older</td>\n",
       "      <td>Short</td>\n",
       "    </tr>\n",
       "    <tr>\n",
       "      <th>1</th>\n",
       "      <td>185.0</td>\n",
       "      <td>179.0</td>\n",
       "      <td>26.0</td>\n",
       "      <td>31.0</td>\n",
       "      <td>175.0</td>\n",
       "      <td>185.0</td>\n",
       "      <td>win_A</td>\n",
       "      <td>UD</td>\n",
       "      <td>-10.0</td>\n",
       "      <td>-6.0</td>\n",
       "      <td>-5.0</td>\n",
       "      <td>Decision</td>\n",
       "      <td>Short</td>\n",
       "      <td>Younger</td>\n",
       "      <td>Short</td>\n",
       "    </tr>\n",
       "    <tr>\n",
       "      <th>2</th>\n",
       "      <td>180.0</td>\n",
       "      <td>179.0</td>\n",
       "      <td>25.0</td>\n",
       "      <td>29.0</td>\n",
       "      <td>175.0</td>\n",
       "      <td>174.0</td>\n",
       "      <td>win_A</td>\n",
       "      <td>KO</td>\n",
       "      <td>1.0</td>\n",
       "      <td>-1.0</td>\n",
       "      <td>-4.0</td>\n",
       "      <td>Stoppage</td>\n",
       "      <td>Tall</td>\n",
       "      <td>Younger</td>\n",
       "      <td>Short</td>\n",
       "    </tr>\n",
       "    <tr>\n",
       "      <th>3</th>\n",
       "      <td>170.0</td>\n",
       "      <td>179.0</td>\n",
       "      <td>25.0</td>\n",
       "      <td>35.0</td>\n",
       "      <td>175.0</td>\n",
       "      <td>170.0</td>\n",
       "      <td>win_A</td>\n",
       "      <td>UD</td>\n",
       "      <td>5.0</td>\n",
       "      <td>9.0</td>\n",
       "      <td>-10.0</td>\n",
       "      <td>Decision</td>\n",
       "      <td>Tall</td>\n",
       "      <td>Younger</td>\n",
       "      <td>Long</td>\n",
       "    </tr>\n",
       "    <tr>\n",
       "      <th>4</th>\n",
       "      <td>178.0</td>\n",
       "      <td>179.0</td>\n",
       "      <td>24.0</td>\n",
       "      <td>31.0</td>\n",
       "      <td>175.0</td>\n",
       "      <td>175.0</td>\n",
       "      <td>win_A</td>\n",
       "      <td>KO</td>\n",
       "      <td>0.0</td>\n",
       "      <td>1.0</td>\n",
       "      <td>-7.0</td>\n",
       "      <td>Stoppage</td>\n",
       "      <td>Same</td>\n",
       "      <td>Younger</td>\n",
       "      <td>Long</td>\n",
       "    </tr>\n",
       "    <tr>\n",
       "      <th>5</th>\n",
       "      <td>188.0</td>\n",
       "      <td>179.0</td>\n",
       "      <td>23.0</td>\n",
       "      <td>31.0</td>\n",
       "      <td>175.0</td>\n",
       "      <td>175.0</td>\n",
       "      <td>win_A</td>\n",
       "      <td>SD</td>\n",
       "      <td>0.0</td>\n",
       "      <td>-9.0</td>\n",
       "      <td>-8.0</td>\n",
       "      <td>Decision</td>\n",
       "      <td>Same</td>\n",
       "      <td>Younger</td>\n",
       "      <td>Short</td>\n",
       "    </tr>\n",
       "    <tr>\n",
       "      <th>6</th>\n",
       "      <td>175.0</td>\n",
       "      <td>179.0</td>\n",
       "      <td>23.0</td>\n",
       "      <td>31.0</td>\n",
       "      <td>175.0</td>\n",
       "      <td>177.0</td>\n",
       "      <td>win_A</td>\n",
       "      <td>TKO</td>\n",
       "      <td>-2.0</td>\n",
       "      <td>4.0</td>\n",
       "      <td>-8.0</td>\n",
       "      <td>Stoppage</td>\n",
       "      <td>Short</td>\n",
       "      <td>Younger</td>\n",
       "      <td>Long</td>\n",
       "    </tr>\n",
       "    <tr>\n",
       "      <th>7</th>\n",
       "      <td>179.0</td>\n",
       "      <td>183.0</td>\n",
       "      <td>36.0</td>\n",
       "      <td>23.0</td>\n",
       "      <td>173.0</td>\n",
       "      <td>175.0</td>\n",
       "      <td>win_A</td>\n",
       "      <td>MD</td>\n",
       "      <td>-2.0</td>\n",
       "      <td>4.0</td>\n",
       "      <td>13.0</td>\n",
       "      <td>Decision</td>\n",
       "      <td>Short</td>\n",
       "      <td>Older</td>\n",
       "      <td>Long</td>\n",
       "    </tr>\n",
       "    <tr>\n",
       "      <th>8</th>\n",
       "      <td>179.0</td>\n",
       "      <td>183.0</td>\n",
       "      <td>27.0</td>\n",
       "      <td>22.0</td>\n",
       "      <td>177.0</td>\n",
       "      <td>175.0</td>\n",
       "      <td>win_B</td>\n",
       "      <td>UD</td>\n",
       "      <td>2.0</td>\n",
       "      <td>4.0</td>\n",
       "      <td>5.0</td>\n",
       "      <td>Decision</td>\n",
       "      <td>Tall</td>\n",
       "      <td>Older</td>\n",
       "      <td>Long</td>\n",
       "    </tr>\n",
       "    <tr>\n",
       "      <th>9</th>\n",
       "      <td>175.0</td>\n",
       "      <td>179.0</td>\n",
       "      <td>22.0</td>\n",
       "      <td>28.0</td>\n",
       "      <td>175.0</td>\n",
       "      <td>177.0</td>\n",
       "      <td>win_A</td>\n",
       "      <td>TKO</td>\n",
       "      <td>-2.0</td>\n",
       "      <td>4.0</td>\n",
       "      <td>-6.0</td>\n",
       "      <td>Stoppage</td>\n",
       "      <td>Short</td>\n",
       "      <td>Younger</td>\n",
       "      <td>Long</td>\n",
       "    </tr>\n",
       "  </tbody>\n",
       "</table>\n",
       "</div>"
      ],
      "text/plain": [
       "   reach_B  reach_A  age_A  age_B  height_A  height_B result decision  \\\n",
       "0    179.0    178.0   35.0   27.0     179.0     175.0   draw       SD   \n",
       "1    185.0    179.0   26.0   31.0     175.0     185.0  win_A       UD   \n",
       "2    180.0    179.0   25.0   29.0     175.0     174.0  win_A       KO   \n",
       "3    170.0    179.0   25.0   35.0     175.0     170.0  win_A       UD   \n",
       "4    178.0    179.0   24.0   31.0     175.0     175.0  win_A       KO   \n",
       "5    188.0    179.0   23.0   31.0     175.0     175.0  win_A       SD   \n",
       "6    175.0    179.0   23.0   31.0     175.0     177.0  win_A      TKO   \n",
       "7    179.0    183.0   36.0   23.0     173.0     175.0  win_A       MD   \n",
       "8    179.0    183.0   27.0   22.0     177.0     175.0  win_B       UD   \n",
       "9    175.0    179.0   22.0   28.0     175.0     177.0  win_A      TKO   \n",
       "\n",
       "   height_diff  reach_diff  age_diff decision_new height_dec  age_dec  \\\n",
       "0          4.0        -1.0       8.0     Decision       Tall    Older   \n",
       "1        -10.0        -6.0      -5.0     Decision      Short  Younger   \n",
       "2          1.0        -1.0      -4.0     Stoppage       Tall  Younger   \n",
       "3          5.0         9.0     -10.0     Decision       Tall  Younger   \n",
       "4          0.0         1.0      -7.0     Stoppage       Same  Younger   \n",
       "5          0.0        -9.0      -8.0     Decision       Same  Younger   \n",
       "6         -2.0         4.0      -8.0     Stoppage      Short  Younger   \n",
       "7         -2.0         4.0      13.0     Decision      Short    Older   \n",
       "8          2.0         4.0       5.0     Decision       Tall    Older   \n",
       "9         -2.0         4.0      -6.0     Stoppage      Short  Younger   \n",
       "\n",
       "  reach_dec  \n",
       "0     Short  \n",
       "1     Short  \n",
       "2     Short  \n",
       "3      Long  \n",
       "4      Long  \n",
       "5     Short  \n",
       "6      Long  \n",
       "7      Long  \n",
       "8      Long  \n",
       "9      Long  "
      ]
     },
     "execution_count": 58,
     "metadata": {},
     "output_type": "execute_result"
    }
   ],
   "source": [
    "boxing_data.head(10)"
   ]
  },
  {
   "cell_type": "markdown",
   "metadata": {},
   "source": [
    "Since we want to check whether Boxer A is winning more dominanalty if physical attributes favours him, hence we will take only those data where Boxer A is winning, so that we can check if the boxer A is winning better if he has the physical advantage."
   ]
  },
  {
   "cell_type": "code",
   "execution_count": 59,
   "metadata": {},
   "outputs": [],
   "source": [
    "boxing_data_new=boxing_data[boxing_data['result']=='win_A']"
   ]
  },
  {
   "cell_type": "code",
   "execution_count": 60,
   "metadata": {},
   "outputs": [
    {
     "data": {
      "text/html": [
       "<div>\n",
       "<style scoped>\n",
       "    .dataframe tbody tr th:only-of-type {\n",
       "        vertical-align: middle;\n",
       "    }\n",
       "\n",
       "    .dataframe tbody tr th {\n",
       "        vertical-align: top;\n",
       "    }\n",
       "\n",
       "    .dataframe thead th {\n",
       "        text-align: right;\n",
       "    }\n",
       "</style>\n",
       "<table border=\"1\" class=\"dataframe\">\n",
       "  <thead>\n",
       "    <tr style=\"text-align: right;\">\n",
       "      <th></th>\n",
       "      <th>reach_B</th>\n",
       "      <th>reach_A</th>\n",
       "      <th>age_A</th>\n",
       "      <th>age_B</th>\n",
       "      <th>height_A</th>\n",
       "      <th>height_B</th>\n",
       "      <th>result</th>\n",
       "      <th>decision</th>\n",
       "      <th>height_diff</th>\n",
       "      <th>reach_diff</th>\n",
       "      <th>age_diff</th>\n",
       "      <th>decision_new</th>\n",
       "      <th>height_dec</th>\n",
       "      <th>age_dec</th>\n",
       "      <th>reach_dec</th>\n",
       "    </tr>\n",
       "  </thead>\n",
       "  <tbody>\n",
       "    <tr>\n",
       "      <th>1</th>\n",
       "      <td>185.0</td>\n",
       "      <td>179.0</td>\n",
       "      <td>26.0</td>\n",
       "      <td>31.0</td>\n",
       "      <td>175.0</td>\n",
       "      <td>185.0</td>\n",
       "      <td>win_A</td>\n",
       "      <td>UD</td>\n",
       "      <td>-10.0</td>\n",
       "      <td>-6.0</td>\n",
       "      <td>-5.0</td>\n",
       "      <td>Decision</td>\n",
       "      <td>Short</td>\n",
       "      <td>Younger</td>\n",
       "      <td>Short</td>\n",
       "    </tr>\n",
       "    <tr>\n",
       "      <th>2</th>\n",
       "      <td>180.0</td>\n",
       "      <td>179.0</td>\n",
       "      <td>25.0</td>\n",
       "      <td>29.0</td>\n",
       "      <td>175.0</td>\n",
       "      <td>174.0</td>\n",
       "      <td>win_A</td>\n",
       "      <td>KO</td>\n",
       "      <td>1.0</td>\n",
       "      <td>-1.0</td>\n",
       "      <td>-4.0</td>\n",
       "      <td>Stoppage</td>\n",
       "      <td>Tall</td>\n",
       "      <td>Younger</td>\n",
       "      <td>Short</td>\n",
       "    </tr>\n",
       "    <tr>\n",
       "      <th>3</th>\n",
       "      <td>170.0</td>\n",
       "      <td>179.0</td>\n",
       "      <td>25.0</td>\n",
       "      <td>35.0</td>\n",
       "      <td>175.0</td>\n",
       "      <td>170.0</td>\n",
       "      <td>win_A</td>\n",
       "      <td>UD</td>\n",
       "      <td>5.0</td>\n",
       "      <td>9.0</td>\n",
       "      <td>-10.0</td>\n",
       "      <td>Decision</td>\n",
       "      <td>Tall</td>\n",
       "      <td>Younger</td>\n",
       "      <td>Long</td>\n",
       "    </tr>\n",
       "    <tr>\n",
       "      <th>4</th>\n",
       "      <td>178.0</td>\n",
       "      <td>179.0</td>\n",
       "      <td>24.0</td>\n",
       "      <td>31.0</td>\n",
       "      <td>175.0</td>\n",
       "      <td>175.0</td>\n",
       "      <td>win_A</td>\n",
       "      <td>KO</td>\n",
       "      <td>0.0</td>\n",
       "      <td>1.0</td>\n",
       "      <td>-7.0</td>\n",
       "      <td>Stoppage</td>\n",
       "      <td>Same</td>\n",
       "      <td>Younger</td>\n",
       "      <td>Long</td>\n",
       "    </tr>\n",
       "    <tr>\n",
       "      <th>5</th>\n",
       "      <td>188.0</td>\n",
       "      <td>179.0</td>\n",
       "      <td>23.0</td>\n",
       "      <td>31.0</td>\n",
       "      <td>175.0</td>\n",
       "      <td>175.0</td>\n",
       "      <td>win_A</td>\n",
       "      <td>SD</td>\n",
       "      <td>0.0</td>\n",
       "      <td>-9.0</td>\n",
       "      <td>-8.0</td>\n",
       "      <td>Decision</td>\n",
       "      <td>Same</td>\n",
       "      <td>Younger</td>\n",
       "      <td>Short</td>\n",
       "    </tr>\n",
       "    <tr>\n",
       "      <th>6</th>\n",
       "      <td>175.0</td>\n",
       "      <td>179.0</td>\n",
       "      <td>23.0</td>\n",
       "      <td>31.0</td>\n",
       "      <td>175.0</td>\n",
       "      <td>177.0</td>\n",
       "      <td>win_A</td>\n",
       "      <td>TKO</td>\n",
       "      <td>-2.0</td>\n",
       "      <td>4.0</td>\n",
       "      <td>-8.0</td>\n",
       "      <td>Stoppage</td>\n",
       "      <td>Short</td>\n",
       "      <td>Younger</td>\n",
       "      <td>Long</td>\n",
       "    </tr>\n",
       "    <tr>\n",
       "      <th>7</th>\n",
       "      <td>179.0</td>\n",
       "      <td>183.0</td>\n",
       "      <td>36.0</td>\n",
       "      <td>23.0</td>\n",
       "      <td>173.0</td>\n",
       "      <td>175.0</td>\n",
       "      <td>win_A</td>\n",
       "      <td>MD</td>\n",
       "      <td>-2.0</td>\n",
       "      <td>4.0</td>\n",
       "      <td>13.0</td>\n",
       "      <td>Decision</td>\n",
       "      <td>Short</td>\n",
       "      <td>Older</td>\n",
       "      <td>Long</td>\n",
       "    </tr>\n",
       "    <tr>\n",
       "      <th>9</th>\n",
       "      <td>175.0</td>\n",
       "      <td>179.0</td>\n",
       "      <td>22.0</td>\n",
       "      <td>28.0</td>\n",
       "      <td>175.0</td>\n",
       "      <td>177.0</td>\n",
       "      <td>win_A</td>\n",
       "      <td>TKO</td>\n",
       "      <td>-2.0</td>\n",
       "      <td>4.0</td>\n",
       "      <td>-6.0</td>\n",
       "      <td>Stoppage</td>\n",
       "      <td>Short</td>\n",
       "      <td>Younger</td>\n",
       "      <td>Long</td>\n",
       "    </tr>\n",
       "    <tr>\n",
       "      <th>10</th>\n",
       "      <td>180.0</td>\n",
       "      <td>179.0</td>\n",
       "      <td>21.0</td>\n",
       "      <td>40.0</td>\n",
       "      <td>175.0</td>\n",
       "      <td>174.0</td>\n",
       "      <td>win_A</td>\n",
       "      <td>UD</td>\n",
       "      <td>1.0</td>\n",
       "      <td>-1.0</td>\n",
       "      <td>-19.0</td>\n",
       "      <td>Decision</td>\n",
       "      <td>Tall</td>\n",
       "      <td>Younger</td>\n",
       "      <td>Short</td>\n",
       "    </tr>\n",
       "    <tr>\n",
       "      <th>11</th>\n",
       "      <td>188.0</td>\n",
       "      <td>179.0</td>\n",
       "      <td>21.0</td>\n",
       "      <td>32.0</td>\n",
       "      <td>175.0</td>\n",
       "      <td>180.0</td>\n",
       "      <td>win_A</td>\n",
       "      <td>TKO</td>\n",
       "      <td>-5.0</td>\n",
       "      <td>-9.0</td>\n",
       "      <td>-11.0</td>\n",
       "      <td>Stoppage</td>\n",
       "      <td>Short</td>\n",
       "      <td>Younger</td>\n",
       "      <td>Short</td>\n",
       "    </tr>\n",
       "  </tbody>\n",
       "</table>\n",
       "</div>"
      ],
      "text/plain": [
       "    reach_B  reach_A  age_A  age_B  height_A  height_B result decision  \\\n",
       "1     185.0    179.0   26.0   31.0     175.0     185.0  win_A       UD   \n",
       "2     180.0    179.0   25.0   29.0     175.0     174.0  win_A       KO   \n",
       "3     170.0    179.0   25.0   35.0     175.0     170.0  win_A       UD   \n",
       "4     178.0    179.0   24.0   31.0     175.0     175.0  win_A       KO   \n",
       "5     188.0    179.0   23.0   31.0     175.0     175.0  win_A       SD   \n",
       "6     175.0    179.0   23.0   31.0     175.0     177.0  win_A      TKO   \n",
       "7     179.0    183.0   36.0   23.0     173.0     175.0  win_A       MD   \n",
       "9     175.0    179.0   22.0   28.0     175.0     177.0  win_A      TKO   \n",
       "10    180.0    179.0   21.0   40.0     175.0     174.0  win_A       UD   \n",
       "11    188.0    179.0   21.0   32.0     175.0     180.0  win_A      TKO   \n",
       "\n",
       "    height_diff  reach_diff  age_diff decision_new height_dec  age_dec  \\\n",
       "1         -10.0        -6.0      -5.0     Decision      Short  Younger   \n",
       "2           1.0        -1.0      -4.0     Stoppage       Tall  Younger   \n",
       "3           5.0         9.0     -10.0     Decision       Tall  Younger   \n",
       "4           0.0         1.0      -7.0     Stoppage       Same  Younger   \n",
       "5           0.0        -9.0      -8.0     Decision       Same  Younger   \n",
       "6          -2.0         4.0      -8.0     Stoppage      Short  Younger   \n",
       "7          -2.0         4.0      13.0     Decision      Short    Older   \n",
       "9          -2.0         4.0      -6.0     Stoppage      Short  Younger   \n",
       "10          1.0        -1.0     -19.0     Decision       Tall  Younger   \n",
       "11         -5.0        -9.0     -11.0     Stoppage      Short  Younger   \n",
       "\n",
       "   reach_dec  \n",
       "1      Short  \n",
       "2      Short  \n",
       "3       Long  \n",
       "4       Long  \n",
       "5      Short  \n",
       "6       Long  \n",
       "7       Long  \n",
       "9       Long  \n",
       "10     Short  \n",
       "11     Short  "
      ]
     },
     "execution_count": 60,
     "metadata": {},
     "output_type": "execute_result"
    }
   ],
   "source": [
    "boxing_data_new.head(10)"
   ]
  },
  {
   "cell_type": "code",
   "execution_count": 61,
   "metadata": {},
   "outputs": [
    {
     "data": {
      "image/png": "[encoded data removed]",
      "text/plain": [
       "<Figure size 720x360 with 1 Axes>"
      ]
     },
     "metadata": {
      "needs_background": "light"
     },
     "output_type": "display_data"
    }
   ],
   "source": [
    "plt.figure(figsize=(10,5))\n",
    "sns.countplot(x=\"height_dec\", hue=\"decision_new\", data=boxing_data_new)\n",
    "plt.title(\"Kind of Victory considering height\",fontsize=20,fontweight=\"bold\")\n",
    "plt.ylabel(\"Frequency\")\n",
    "plt.xlabel(\"Height Advantage\")\n",
    "plt.show()"
   ]
  },
  {
   "cell_type": "markdown",
   "metadata": {},
   "source": [
    "__Observation:__ If we see, when height is more, we see more stoppage victories than decision, meaning fight is won with more dominance"
   ]
  },
  {
   "cell_type": "markdown",
   "metadata": {},
   "source": [
    "<a name=\"section405\"></a>\n",
    "\n",
    "### 4.5 __Does Age helps the boxers to win more dominantly?__"
   ]
  },
  {
   "cell_type": "code",
   "execution_count": 62,
   "metadata": {},
   "outputs": [
    {
     "data": {
      "image/png": "[encoded data removed]",
      "text/plain": [
       "<Figure size 720x360 with 1 Axes>"
      ]
     },
     "metadata": {
      "needs_background": "light"
     },
     "output_type": "display_data"
    }
   ],
   "source": [
    "plt.figure(figsize=(10,5))\n",
    "sns.countplot(x=\"age_dec\", hue=\"decision_new\", data=boxing_data_new)\n",
    "plt.title(\"Kind of Victory considering Age\",fontsize=20,fontweight=\"bold\")\n",
    "plt.ylabel(\"Frequency\")\n",
    "plt.xlabel(\"Age Advantage\")\n",
    "plt.show()"
   ]
  },
  {
   "cell_type": "markdown",
   "metadata": {},
   "source": [
    "__Observation:__ We similar relationship. When the fighter is younger and wins, he is more likely to get a stoppage victory"
   ]
  },
  {
   "cell_type": "markdown",
   "metadata": {},
   "source": [
    "<a name=\"section406\"></a>\n",
    "\n",
    "### 4.6 __Does reach helps the boxers to win more dominantly?__"
   ]
  },
  {
   "cell_type": "code",
   "execution_count": 63,
   "metadata": {},
   "outputs": [
    {
     "data": {
      "image/png": "[encoded data removed]",
      "text/plain": [
       "<Figure size 720x360 with 1 Axes>"
      ]
     },
     "metadata": {
      "needs_background": "light"
     },
     "output_type": "display_data"
    }
   ],
   "source": [
    "plt.figure(figsize=(10,5))\n",
    "sns.countplot(x=\"reach_dec\", hue=\"decision_new\", data=boxing_data_new)\n",
    "plt.title(\"Kind of Victory considering Reach\",fontsize=20,fontweight=\"bold\")\n",
    "plt.ylabel(\"Frequency\")\n",
    "plt.xlabel(\"Reach Advantage\")\n",
    "plt.show()"
   ]
  },
  {
   "cell_type": "markdown",
   "metadata": {},
   "source": [
    "__Observation:__ We see similar relationship. When the fighter has reach advantage and he wins, he is more likely to get a stoppage victory"
   ]
  },
  {
   "cell_type": "markdown",
   "metadata": {},
   "source": [
    "<a name=\"section407\"></a>\n",
    "\n",
    "### 4.7 __How advantage in single physical attribute fare with the outcome of the boxers?__"
   ]
  },
  {
   "cell_type": "markdown",
   "metadata": {},
   "source": [
    "__Lets first compare height and keep other attributes as same between the boxers..__"
   ]
  },
  {
   "cell_type": "code",
   "execution_count": 64,
   "metadata": {},
   "outputs": [],
   "source": [
    "boxing_data_temp=boxing_data[boxing_data['age_dec']=='Same']\n",
    "boxing_data_height=boxing_data_temp[boxing_data_temp['reach_dec']=='Same']\n"
   ]
  },
  {
   "cell_type": "code",
   "execution_count": 65,
   "metadata": {},
   "outputs": [
    {
     "data": {
      "text/html": [
       "<div>\n",
       "<style scoped>\n",
       "    .dataframe tbody tr th:only-of-type {\n",
       "        vertical-align: middle;\n",
       "    }\n",
       "\n",
       "    .dataframe tbody tr th {\n",
       "        vertical-align: top;\n",
       "    }\n",
       "\n",
       "    .dataframe thead th {\n",
       "        text-align: right;\n",
       "    }\n",
       "</style>\n",
       "<table border=\"1\" class=\"dataframe\">\n",
       "  <thead>\n",
       "    <tr style=\"text-align: right;\">\n",
       "      <th></th>\n",
       "      <th>reach_B</th>\n",
       "      <th>reach_A</th>\n",
       "      <th>age_A</th>\n",
       "      <th>age_B</th>\n",
       "      <th>height_A</th>\n",
       "      <th>height_B</th>\n",
       "      <th>result</th>\n",
       "      <th>decision</th>\n",
       "      <th>height_diff</th>\n",
       "      <th>reach_diff</th>\n",
       "      <th>age_diff</th>\n",
       "      <th>decision_new</th>\n",
       "      <th>height_dec</th>\n",
       "      <th>age_dec</th>\n",
       "      <th>reach_dec</th>\n",
       "    </tr>\n",
       "  </thead>\n",
       "  <tbody>\n",
       "    <tr>\n",
       "      <th>680</th>\n",
       "      <td>194.0</td>\n",
       "      <td>194.0</td>\n",
       "      <td>26.0</td>\n",
       "      <td>26.0</td>\n",
       "      <td>185.0</td>\n",
       "      <td>185.0</td>\n",
       "      <td>win_A</td>\n",
       "      <td>TKO</td>\n",
       "      <td>0.0</td>\n",
       "      <td>0.0</td>\n",
       "      <td>0.0</td>\n",
       "      <td>Stoppage</td>\n",
       "      <td>Same</td>\n",
       "      <td>Same</td>\n",
       "      <td>Same</td>\n",
       "    </tr>\n",
       "    <tr>\n",
       "      <th>2245</th>\n",
       "      <td>173.0</td>\n",
       "      <td>173.0</td>\n",
       "      <td>26.0</td>\n",
       "      <td>26.0</td>\n",
       "      <td>168.0</td>\n",
       "      <td>166.0</td>\n",
       "      <td>win_A</td>\n",
       "      <td>SD</td>\n",
       "      <td>2.0</td>\n",
       "      <td>0.0</td>\n",
       "      <td>0.0</td>\n",
       "      <td>Decision</td>\n",
       "      <td>Tall</td>\n",
       "      <td>Same</td>\n",
       "      <td>Same</td>\n",
       "    </tr>\n",
       "    <tr>\n",
       "      <th>17991</th>\n",
       "      <td>185.0</td>\n",
       "      <td>185.0</td>\n",
       "      <td>25.0</td>\n",
       "      <td>25.0</td>\n",
       "      <td>175.0</td>\n",
       "      <td>173.0</td>\n",
       "      <td>win_A</td>\n",
       "      <td>SD</td>\n",
       "      <td>2.0</td>\n",
       "      <td>0.0</td>\n",
       "      <td>0.0</td>\n",
       "      <td>Decision</td>\n",
       "      <td>Tall</td>\n",
       "      <td>Same</td>\n",
       "      <td>Same</td>\n",
       "    </tr>\n",
       "    <tr>\n",
       "      <th>3349</th>\n",
       "      <td>170.0</td>\n",
       "      <td>170.0</td>\n",
       "      <td>23.0</td>\n",
       "      <td>23.0</td>\n",
       "      <td>173.0</td>\n",
       "      <td>175.0</td>\n",
       "      <td>win_A</td>\n",
       "      <td>RTD</td>\n",
       "      <td>-2.0</td>\n",
       "      <td>0.0</td>\n",
       "      <td>0.0</td>\n",
       "      <td>Stoppage</td>\n",
       "      <td>Short</td>\n",
       "      <td>Same</td>\n",
       "      <td>Same</td>\n",
       "    </tr>\n",
       "    <tr>\n",
       "      <th>1913</th>\n",
       "      <td>193.0</td>\n",
       "      <td>193.0</td>\n",
       "      <td>28.0</td>\n",
       "      <td>28.0</td>\n",
       "      <td>192.0</td>\n",
       "      <td>191.0</td>\n",
       "      <td>win_B</td>\n",
       "      <td>TKO</td>\n",
       "      <td>1.0</td>\n",
       "      <td>0.0</td>\n",
       "      <td>0.0</td>\n",
       "      <td>Stoppage</td>\n",
       "      <td>Tall</td>\n",
       "      <td>Same</td>\n",
       "      <td>Same</td>\n",
       "    </tr>\n",
       "  </tbody>\n",
       "</table>\n",
       "</div>"
      ],
      "text/plain": [
       "       reach_B  reach_A  age_A  age_B  height_A  height_B result decision  \\\n",
       "680      194.0    194.0   26.0   26.0     185.0     185.0  win_A      TKO   \n",
       "2245     173.0    173.0   26.0   26.0     168.0     166.0  win_A       SD   \n",
       "17991    185.0    185.0   25.0   25.0     175.0     173.0  win_A       SD   \n",
       "3349     170.0    170.0   23.0   23.0     173.0     175.0  win_A      RTD   \n",
       "1913     193.0    193.0   28.0   28.0     192.0     191.0  win_B      TKO   \n",
       "\n",
       "       height_diff  reach_diff  age_diff decision_new height_dec age_dec  \\\n",
       "680            0.0         0.0       0.0     Stoppage       Same    Same   \n",
       "2245           2.0         0.0       0.0     Decision       Tall    Same   \n",
       "17991          2.0         0.0       0.0     Decision       Tall    Same   \n",
       "3349          -2.0         0.0       0.0     Stoppage      Short    Same   \n",
       "1913           1.0         0.0       0.0     Stoppage       Tall    Same   \n",
       "\n",
       "      reach_dec  \n",
       "680        Same  \n",
       "2245       Same  \n",
       "17991      Same  \n",
       "3349       Same  \n",
       "1913       Same  "
      ]
     },
     "execution_count": 65,
     "metadata": {},
     "output_type": "execute_result"
    }
   ],
   "source": [
    "boxing_data_height.sample(5)"
   ]
  },
  {
   "cell_type": "code",
   "execution_count": 66,
   "metadata": {},
   "outputs": [
    {
     "data": {
      "text/plain": [
       "Text(0.5, 1.0, 'Tall')"
      ]
     },
     "execution_count": 66,
     "metadata": {},
     "output_type": "execute_result"
    },
    {
     "data": {
      "image/png": "[encoded data removed]",
      "text/plain": [
       "<Figure size 1440x504 with 3 Axes>"
      ]
     },
     "metadata": {},
     "output_type": "display_data"
    }
   ],
   "source": [
    "f,ax = plt.subplots(1,3,figsize=(20,7))\n",
    "\n",
    "#boxing_data['result'][boxing_data['height_diff'] < 0].value_counts().plot.pie()\n",
    "#boxing_data['result'][boxing_data['height_diff'] < 0].value_counts().plot.pie()\n",
    "\n",
    "\n",
    "boxing_data_height['result'][boxing_data_height['height_dec'] == 'Short'].value_counts().plot.pie(autopct='%1.1f%%',ax=ax[0],shadow=True)\n",
    "boxing_data_height['result'][boxing_data_height['height_dec'] == 'Same'].value_counts().plot.pie(autopct='%1.1f%%',ax=ax[1],shadow=True)\n",
    "boxing_data_height['result'][boxing_data_height['height_dec'] == 'Tall'].value_counts().plot.pie(autopct='%1.1f%%',ax=ax[2],shadow=True)\n",
    "ax[0].set_title('Short')\n",
    "ax[1].set_title('Same')\n",
    "ax[2].set_title('Tall')"
   ]
  },
  {
   "cell_type": "markdown",
   "metadata": {},
   "source": [
    "__Observation:__ We are seeing a slight mismatch here. However when boxer A is shorter than B, it has won less. But certainly we see Boxer A winning more bouts when the height is same"
   ]
  },
  {
   "cell_type": "markdown",
   "metadata": {},
   "source": [
    "__Lets compare with Age now and keep other attributes as same between the boxers...__"
   ]
  },
  {
   "cell_type": "code",
   "execution_count": 67,
   "metadata": {},
   "outputs": [],
   "source": [
    "boxing_data_temp=boxing_data[boxing_data['height_dec']=='Same']\n",
    "boxing_data_age=boxing_data_temp[boxing_data_temp['reach_dec']=='Same']\n"
   ]
  },
  {
   "cell_type": "code",
   "execution_count": 68,
   "metadata": {},
   "outputs": [
    {
     "data": {
      "text/html": [
       "<div>\n",
       "<style scoped>\n",
       "    .dataframe tbody tr th:only-of-type {\n",
       "        vertical-align: middle;\n",
       "    }\n",
       "\n",
       "    .dataframe tbody tr th {\n",
       "        vertical-align: top;\n",
       "    }\n",
       "\n",
       "    .dataframe thead th {\n",
       "        text-align: right;\n",
       "    }\n",
       "</style>\n",
       "<table border=\"1\" class=\"dataframe\">\n",
       "  <thead>\n",
       "    <tr style=\"text-align: right;\">\n",
       "      <th></th>\n",
       "      <th>reach_B</th>\n",
       "      <th>reach_A</th>\n",
       "      <th>age_A</th>\n",
       "      <th>age_B</th>\n",
       "      <th>height_A</th>\n",
       "      <th>height_B</th>\n",
       "      <th>result</th>\n",
       "      <th>decision</th>\n",
       "      <th>height_diff</th>\n",
       "      <th>reach_diff</th>\n",
       "      <th>age_diff</th>\n",
       "      <th>decision_new</th>\n",
       "      <th>height_dec</th>\n",
       "      <th>age_dec</th>\n",
       "      <th>reach_dec</th>\n",
       "    </tr>\n",
       "  </thead>\n",
       "  <tbody>\n",
       "    <tr>\n",
       "      <th>5274</th>\n",
       "      <td>178.0</td>\n",
       "      <td>178.0</td>\n",
       "      <td>27.0</td>\n",
       "      <td>25.0</td>\n",
       "      <td>170.0</td>\n",
       "      <td>170.0</td>\n",
       "      <td>win_A</td>\n",
       "      <td>TKO</td>\n",
       "      <td>0.0</td>\n",
       "      <td>0.0</td>\n",
       "      <td>2.0</td>\n",
       "      <td>Stoppage</td>\n",
       "      <td>Same</td>\n",
       "      <td>Older</td>\n",
       "      <td>Same</td>\n",
       "    </tr>\n",
       "    <tr>\n",
       "      <th>17074</th>\n",
       "      <td>175.0</td>\n",
       "      <td>175.0</td>\n",
       "      <td>27.0</td>\n",
       "      <td>30.0</td>\n",
       "      <td>171.0</td>\n",
       "      <td>171.0</td>\n",
       "      <td>win_A</td>\n",
       "      <td>PTS</td>\n",
       "      <td>0.0</td>\n",
       "      <td>0.0</td>\n",
       "      <td>-3.0</td>\n",
       "      <td>Decision</td>\n",
       "      <td>Same</td>\n",
       "      <td>Younger</td>\n",
       "      <td>Same</td>\n",
       "    </tr>\n",
       "    <tr>\n",
       "      <th>451</th>\n",
       "      <td>175.0</td>\n",
       "      <td>175.0</td>\n",
       "      <td>29.0</td>\n",
       "      <td>27.0</td>\n",
       "      <td>173.0</td>\n",
       "      <td>173.0</td>\n",
       "      <td>win_A</td>\n",
       "      <td>KO</td>\n",
       "      <td>0.0</td>\n",
       "      <td>0.0</td>\n",
       "      <td>2.0</td>\n",
       "      <td>Stoppage</td>\n",
       "      <td>Same</td>\n",
       "      <td>Older</td>\n",
       "      <td>Same</td>\n",
       "    </tr>\n",
       "    <tr>\n",
       "      <th>16888</th>\n",
       "      <td>168.0</td>\n",
       "      <td>168.0</td>\n",
       "      <td>33.0</td>\n",
       "      <td>24.0</td>\n",
       "      <td>163.0</td>\n",
       "      <td>163.0</td>\n",
       "      <td>win_A</td>\n",
       "      <td>PTS</td>\n",
       "      <td>0.0</td>\n",
       "      <td>0.0</td>\n",
       "      <td>9.0</td>\n",
       "      <td>Decision</td>\n",
       "      <td>Same</td>\n",
       "      <td>Older</td>\n",
       "      <td>Same</td>\n",
       "    </tr>\n",
       "    <tr>\n",
       "      <th>4505</th>\n",
       "      <td>175.0</td>\n",
       "      <td>175.0</td>\n",
       "      <td>23.0</td>\n",
       "      <td>28.0</td>\n",
       "      <td>170.0</td>\n",
       "      <td>170.0</td>\n",
       "      <td>win_B</td>\n",
       "      <td>UD</td>\n",
       "      <td>0.0</td>\n",
       "      <td>0.0</td>\n",
       "      <td>-5.0</td>\n",
       "      <td>Decision</td>\n",
       "      <td>Same</td>\n",
       "      <td>Younger</td>\n",
       "      <td>Same</td>\n",
       "    </tr>\n",
       "  </tbody>\n",
       "</table>\n",
       "</div>"
      ],
      "text/plain": [
       "       reach_B  reach_A  age_A  age_B  height_A  height_B result decision  \\\n",
       "5274     178.0    178.0   27.0   25.0     170.0     170.0  win_A      TKO   \n",
       "17074    175.0    175.0   27.0   30.0     171.0     171.0  win_A      PTS   \n",
       "451      175.0    175.0   29.0   27.0     173.0     173.0  win_A       KO   \n",
       "16888    168.0    168.0   33.0   24.0     163.0     163.0  win_A      PTS   \n",
       "4505     175.0    175.0   23.0   28.0     170.0     170.0  win_B       UD   \n",
       "\n",
       "       height_diff  reach_diff  age_diff decision_new height_dec  age_dec  \\\n",
       "5274           0.0         0.0       2.0     Stoppage       Same    Older   \n",
       "17074          0.0         0.0      -3.0     Decision       Same  Younger   \n",
       "451            0.0         0.0       2.0     Stoppage       Same    Older   \n",
       "16888          0.0         0.0       9.0     Decision       Same    Older   \n",
       "4505           0.0         0.0      -5.0     Decision       Same  Younger   \n",
       "\n",
       "      reach_dec  \n",
       "5274       Same  \n",
       "17074      Same  \n",
       "451        Same  \n",
       "16888      Same  \n",
       "4505       Same  "
      ]
     },
     "execution_count": 68,
     "metadata": {},
     "output_type": "execute_result"
    }
   ],
   "source": [
    "boxing_data_age.sample(5)"
   ]
  },
  {
   "cell_type": "code",
   "execution_count": 69,
   "metadata": {},
   "outputs": [
    {
     "data": {
      "text/plain": [
       "Text(0.5, 1.0, 'Older')"
      ]
     },
     "execution_count": 69,
     "metadata": {},
     "output_type": "execute_result"
    },
    {
     "data": {
      "image/png": "[encoded data removed]",
      "text/plain": [
       "<Figure size 1440x504 with 3 Axes>"
      ]
     },
     "metadata": {},
     "output_type": "display_data"
    }
   ],
   "source": [
    "f,ax = plt.subplots(1,3,figsize=(20,7))\n",
    "\n",
    "#boxing_data['result'][boxing_data['height_diff'] < 0].value_counts().plot.pie()\n",
    "#boxing_data['result'][boxing_data['height_diff'] < 0].value_counts().plot.pie()\n",
    "\n",
    "\n",
    "boxing_data_age['result'][boxing_data_age['age_dec'] == 'Younger'].value_counts().plot.pie(autopct='%1.1f%%',ax=ax[0],shadow=True)\n",
    "boxing_data_age['result'][boxing_data_age['age_dec'] == 'Same'].value_counts().plot.pie(autopct='%1.1f%%',ax=ax[1],shadow=True)\n",
    "boxing_data_age['result'][boxing_data_age['age_dec'] == 'Older'].value_counts().plot.pie(autopct='%1.1f%%',ax=ax[2],shadow=True)\n",
    "ax[0].set_title('Younger')\n",
    "ax[1].set_title('Same')\n",
    "ax[2].set_title('Older')"
   ]
  },
  {
   "cell_type": "markdown",
   "metadata": {},
   "source": [
    "__Observation:__ Here also we see similar mismatch as in case of height. However when boxer A is older than B, it has won less. But certainly we see Boxer A winning more bouts when the age is same."
   ]
  },
  {
   "cell_type": "markdown",
   "metadata": {},
   "source": [
    "__Lets compare with Reach now and keep other attributes as same between the boxers...__"
   ]
  },
  {
   "cell_type": "code",
   "execution_count": 70,
   "metadata": {},
   "outputs": [],
   "source": [
    "boxing_data_temp=boxing_data[boxing_data['age_dec']=='Same']\n",
    "boxing_data_reach=boxing_data_temp[boxing_data_temp['height_dec']=='Same']\n"
   ]
  },
  {
   "cell_type": "code",
   "execution_count": 71,
   "metadata": {},
   "outputs": [
    {
     "data": {
      "text/html": [
       "<div>\n",
       "<style scoped>\n",
       "    .dataframe tbody tr th:only-of-type {\n",
       "        vertical-align: middle;\n",
       "    }\n",
       "\n",
       "    .dataframe tbody tr th {\n",
       "        vertical-align: top;\n",
       "    }\n",
       "\n",
       "    .dataframe thead th {\n",
       "        text-align: right;\n",
       "    }\n",
       "</style>\n",
       "<table border=\"1\" class=\"dataframe\">\n",
       "  <thead>\n",
       "    <tr style=\"text-align: right;\">\n",
       "      <th></th>\n",
       "      <th>reach_B</th>\n",
       "      <th>reach_A</th>\n",
       "      <th>age_A</th>\n",
       "      <th>age_B</th>\n",
       "      <th>height_A</th>\n",
       "      <th>height_B</th>\n",
       "      <th>result</th>\n",
       "      <th>decision</th>\n",
       "      <th>height_diff</th>\n",
       "      <th>reach_diff</th>\n",
       "      <th>age_diff</th>\n",
       "      <th>decision_new</th>\n",
       "      <th>height_dec</th>\n",
       "      <th>age_dec</th>\n",
       "      <th>reach_dec</th>\n",
       "    </tr>\n",
       "  </thead>\n",
       "  <tbody>\n",
       "    <tr>\n",
       "      <th>12983</th>\n",
       "      <td>165.0</td>\n",
       "      <td>174.0</td>\n",
       "      <td>21.0</td>\n",
       "      <td>21.0</td>\n",
       "      <td>168.0</td>\n",
       "      <td>168.0</td>\n",
       "      <td>win_A</td>\n",
       "      <td>UD</td>\n",
       "      <td>0.0</td>\n",
       "      <td>9.0</td>\n",
       "      <td>0.0</td>\n",
       "      <td>Decision</td>\n",
       "      <td>Same</td>\n",
       "      <td>Same</td>\n",
       "      <td>Long</td>\n",
       "    </tr>\n",
       "    <tr>\n",
       "      <th>7830</th>\n",
       "      <td>159.0</td>\n",
       "      <td>173.0</td>\n",
       "      <td>28.0</td>\n",
       "      <td>28.0</td>\n",
       "      <td>163.0</td>\n",
       "      <td>163.0</td>\n",
       "      <td>win_A</td>\n",
       "      <td>TKO</td>\n",
       "      <td>0.0</td>\n",
       "      <td>14.0</td>\n",
       "      <td>0.0</td>\n",
       "      <td>Stoppage</td>\n",
       "      <td>Same</td>\n",
       "      <td>Same</td>\n",
       "      <td>Long</td>\n",
       "    </tr>\n",
       "    <tr>\n",
       "      <th>492</th>\n",
       "      <td>178.0</td>\n",
       "      <td>188.0</td>\n",
       "      <td>27.0</td>\n",
       "      <td>27.0</td>\n",
       "      <td>175.0</td>\n",
       "      <td>175.0</td>\n",
       "      <td>draw</td>\n",
       "      <td>MD</td>\n",
       "      <td>0.0</td>\n",
       "      <td>10.0</td>\n",
       "      <td>0.0</td>\n",
       "      <td>Decision</td>\n",
       "      <td>Same</td>\n",
       "      <td>Same</td>\n",
       "      <td>Long</td>\n",
       "    </tr>\n",
       "    <tr>\n",
       "      <th>12973</th>\n",
       "      <td>165.0</td>\n",
       "      <td>174.0</td>\n",
       "      <td>26.0</td>\n",
       "      <td>26.0</td>\n",
       "      <td>168.0</td>\n",
       "      <td>168.0</td>\n",
       "      <td>win_B</td>\n",
       "      <td>SD</td>\n",
       "      <td>0.0</td>\n",
       "      <td>9.0</td>\n",
       "      <td>0.0</td>\n",
       "      <td>Decision</td>\n",
       "      <td>Same</td>\n",
       "      <td>Same</td>\n",
       "      <td>Long</td>\n",
       "    </tr>\n",
       "    <tr>\n",
       "      <th>4671</th>\n",
       "      <td>173.0</td>\n",
       "      <td>178.0</td>\n",
       "      <td>25.0</td>\n",
       "      <td>25.0</td>\n",
       "      <td>173.0</td>\n",
       "      <td>173.0</td>\n",
       "      <td>win_A</td>\n",
       "      <td>UD</td>\n",
       "      <td>0.0</td>\n",
       "      <td>5.0</td>\n",
       "      <td>0.0</td>\n",
       "      <td>Decision</td>\n",
       "      <td>Same</td>\n",
       "      <td>Same</td>\n",
       "      <td>Long</td>\n",
       "    </tr>\n",
       "  </tbody>\n",
       "</table>\n",
       "</div>"
      ],
      "text/plain": [
       "       reach_B  reach_A  age_A  age_B  height_A  height_B result decision  \\\n",
       "12983    165.0    174.0   21.0   21.0     168.0     168.0  win_A       UD   \n",
       "7830     159.0    173.0   28.0   28.0     163.0     163.0  win_A      TKO   \n",
       "492      178.0    188.0   27.0   27.0     175.0     175.0   draw       MD   \n",
       "12973    165.0    174.0   26.0   26.0     168.0     168.0  win_B       SD   \n",
       "4671     173.0    178.0   25.0   25.0     173.0     173.0  win_A       UD   \n",
       "\n",
       "       height_diff  reach_diff  age_diff decision_new height_dec age_dec  \\\n",
       "12983          0.0         9.0       0.0     Decision       Same    Same   \n",
       "7830           0.0        14.0       0.0     Stoppage       Same    Same   \n",
       "492            0.0        10.0       0.0     Decision       Same    Same   \n",
       "12973          0.0         9.0       0.0     Decision       Same    Same   \n",
       "4671           0.0         5.0       0.0     Decision       Same    Same   \n",
       "\n",
       "      reach_dec  \n",
       "12983      Long  \n",
       "7830       Long  \n",
       "492        Long  \n",
       "12973      Long  \n",
       "4671       Long  "
      ]
     },
     "execution_count": 71,
     "metadata": {},
     "output_type": "execute_result"
    }
   ],
   "source": [
    "boxing_data_reach.sample(5)"
   ]
  },
  {
   "cell_type": "code",
   "execution_count": 72,
   "metadata": {},
   "outputs": [
    {
     "data": {
      "text/plain": [
       "Text(0.5, 1.0, 'Short')"
      ]
     },
     "execution_count": 72,
     "metadata": {},
     "output_type": "execute_result"
    },
    {
     "data": {
      "image/png": "[encoded data removed]",
      "text/plain": [
       "<Figure size 1440x504 with 3 Axes>"
      ]
     },
     "metadata": {},
     "output_type": "display_data"
    }
   ],
   "source": [
    "f,ax = plt.subplots(1,3,figsize=(20,7))\n",
    "\n",
    "#boxing_data['result'][boxing_data['height_diff'] < 0].value_counts().plot.pie()\n",
    "#boxing_data['result'][boxing_data['height_diff'] < 0].value_counts().plot.pie()\n",
    "\n",
    "\n",
    "boxing_data_reach['result'][boxing_data_reach['reach_dec'] == 'Long'].value_counts().plot.pie(autopct='%1.1f%%',ax=ax[0],shadow=True)\n",
    "boxing_data_reach['result'][boxing_data_reach['reach_dec'] == 'Same'].value_counts().plot.pie(autopct='%1.1f%%',ax=ax[1],shadow=True)\n",
    "boxing_data_reach['result'][boxing_data_reach['reach_dec'] == 'Short'].value_counts().plot.pie(autopct='%1.1f%%',ax=ax[2],shadow=True)\n",
    "ax[0].set_title('Long')\n",
    "ax[1].set_title('Same')\n",
    "ax[2].set_title('Short')"
   ]
  },
  {
   "cell_type": "markdown",
   "metadata": {},
   "source": [
    "__Observation:__ Here we see almost an opposite outcome. We realised, if all other physical attributes are same, then reach plays a negative role in deciding the outcome. More the reach lesser is the change to win for boxer A."
   ]
  },
  {
   "cell_type": "markdown",
   "metadata": {},
   "source": [
    "<a name=\"section5\"></a>\n",
    "\n",
    "## 5. Conclusion \n",
    "\n",
    "- We see that boxers with better physical attributes have beter chance of winning the bout\n",
    "- Age and Height Speccially play a crucial role in deciding the outcome of the fight\n",
    "- Range also plays a crucial role in deciding the outcome, but not as effective as the other two, as Range didn't perform well when we set other parameters/attributes as same. \n",
    "- We are aware that stance plays a crucial role as well, but the data we had only had details of boxers fighter with other boxers with similar stance\n",
    "- We also noticed that boxers with better physical attributes also win the fight more dominantly.\n",
    "- The dataset provided had more winners as Boxer A. Hence we saw more than 50% winning percentage in either case. However it doesnt affect our analysis."
   ]
  }
 ],
 "metadata": {
  "kernelspec": {
   "display_name": "Python 3",
   "language": "python",
   "name": "python3"
  },
  "language_info": {
   "codemirror_mode": {
    "name": "ipython",
    "version": 3
   },
   "file_extension": ".py",
   "mimetype": "text/x-python",
   "name": "python",
   "nbconvert_exporter": "python",
   "pygments_lexer": "ipython3",
   "version": "3.7.3"
  }
 },
 "nbformat": 4,
 "nbformat_minor": 2
}
